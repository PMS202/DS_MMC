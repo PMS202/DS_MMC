{
  "cells": [
    {
      "cell_type": "markdown",
      "metadata": {
        "id": "-XI1chsfWdEi"
      },
      "source": [
        "#Lab 8.2 Numpy 2D trong Python\n",
        "\n",
        "Thời lượng ước tính cần thiết: **20** phút\n",
        "\n",
        "## Mục tiêu\n",
        "\n",
        "Sau khi hoàn thành lab này, bạn sẽ có thể:\n",
        "\n",
        "-   Vận hành thoải mái với `numpy`\n",
        "-   Thực hiện các phép toán phức tập với with `numpy`\n"
      ]
    },
    {
      "cell_type": "markdown",
      "metadata": {
        "id": "rVrYLLiuWdEs"
      },
      "source": [
        "<h2>Mục lục</h2>\n",
        "<div class=\"alert alert-block alert-info\" style=\"margin-top: 20px\">\n",
        "    <ul>\n",
        "        <li><a href=\"create\">Tạo mảng Numpy 2D</a></li>\n",
        "        <li><a href=\"access\">Truy cập các phần tử khác nhau trong Mảng Numpy</a></li>\n",
        "        <li><a href=\"op\">Các phép toán cơ bản</a></li>\n",
        "    </ul>\n",
        "  \n",
        "</div>\n",
        "\n",
        "<hr>\n"
      ]
    },
    {
      "cell_type": "markdown",
      "metadata": {
        "id": "1NKxrSDlWdEt"
      },
      "source": [
        "<h2 id=\"create\">Tạo mảng Numpy 2D</h2>\n"
      ]
    },
    {
      "cell_type": "code",
      "execution_count": 30,
      "metadata": {
        "id": "tGPWn_EMWdEt"
      },
      "outputs": [],
      "source": [
        "# Import the libraries\n",
        "\n",
        "import numpy as np\n",
        "import matplotlib.pyplot as plt"
      ]
    },
    {
      "cell_type": "markdown",
      "metadata": {
        "id": "Ymmu3A_RWdE1"
      },
      "source": [
        "Hãy xem xét list <code> a</code>, list chứa ba danh sách lồng nhau **có kích thước bằng nhau**."
      ]
    },
    {
      "cell_type": "code",
      "execution_count": 31,
      "metadata": {
        "colab": {
          "base_uri": "https://localhost:8080/"
        },
        "id": "3WqGJQZdWdE1",
        "outputId": "a383870d-70ea-4a0c-aa3e-ac8dfbab4972"
      },
      "outputs": [
        {
          "data": {
            "text/plain": [
              "[[11, 12, 13], [21, 22, 23], [31, 32, 33]]"
            ]
          },
          "execution_count": 31,
          "metadata": {},
          "output_type": "execute_result"
        }
      ],
      "source": [
        "# Create a list\n",
        "\n",
        "a = [[11, 12, 13], [21, 22, 23], [31, 32, 33]]\n",
        "a"
      ]
    },
    {
      "cell_type": "markdown",
      "metadata": {
        "id": "dwIJr94EWdE2"
      },
      "source": [
        "Chúng ta có thể truyền list vào một Mảng Numpy như sau:"
      ]
    },
    {
      "cell_type": "code",
      "execution_count": 32,
      "metadata": {
        "colab": {
          "base_uri": "https://localhost:8080/"
        },
        "id": "Y6p_rMV7WdE2",
        "outputId": "2d7177cc-582a-4a3d-f3da-2e051bbe2732"
      },
      "outputs": [
        {
          "data": {
            "text/plain": [
              "array([[11, 12, 13],\n",
              "       [21, 22, 23],\n",
              "       [31, 32, 33]])"
            ]
          },
          "execution_count": 32,
          "metadata": {},
          "output_type": "execute_result"
        }
      ],
      "source": [
        "# Convert list to Numpy Array\n",
        "# Every element is the same type\n",
        "\n",
        "A = np.array(a)\n",
        "A"
      ]
    },
    {
      "cell_type": "markdown",
      "metadata": {
        "id": "VCXqAbANWdE-"
      },
      "source": [
        "Chúng ta có thể sử dụng thuộc tính <code> ndim</code> để lấy số lượng trục hoặc chiều được coi là thứ hạng."
      ]
    },
    {
      "cell_type": "code",
      "execution_count": 33,
      "metadata": {
        "colab": {
          "base_uri": "https://localhost:8080/"
        },
        "id": "oXa7k1VMWdE-",
        "outputId": "6bda5b3e-0102-4109-a846-f6c17f08f8f6"
      },
      "outputs": [
        {
          "data": {
            "text/plain": [
              "2"
            ]
          },
          "execution_count": 33,
          "metadata": {},
          "output_type": "execute_result"
        }
      ],
      "source": [
        "# Show the numpy array dimensions\n",
        "\n",
        "A.ndim"
      ]
    },
    {
      "cell_type": "markdown",
      "metadata": {
        "id": "3q4BVkd2WdE_"
      },
      "source": [
        "Thuộc tính <code> shape</code> trả về tuple tương ứng với kích thước hoặc số lượng của mỗi chiều."
      ]
    },
    {
      "cell_type": "code",
      "execution_count": 34,
      "metadata": {
        "colab": {
          "base_uri": "https://localhost:8080/"
        },
        "id": "llFbOF8VWdE_",
        "outputId": "cb23af72-a2ae-445d-c7a3-5a7ff3771f1f"
      },
      "outputs": [
        {
          "data": {
            "text/plain": [
              "(3, 3)"
            ]
          },
          "execution_count": 34,
          "metadata": {},
          "output_type": "execute_result"
        }
      ],
      "source": [
        "# Show the numpy array shape\n",
        "\n",
        "A.shape"
      ]
    },
    {
      "cell_type": "markdown",
      "metadata": {
        "id": "24zaFr91WdFA"
      },
      "source": [
        "Tổng số phần tử trong mảng được cung cấp bởi thuộc tính <code> size</code>."
      ]
    },
    {
      "cell_type": "code",
      "execution_count": 35,
      "metadata": {
        "colab": {
          "base_uri": "https://localhost:8080/"
        },
        "id": "Y8wyiUzWWdFG",
        "outputId": "f49922cc-e9e7-45fb-ca35-79fd58aae729"
      },
      "outputs": [
        {
          "data": {
            "text/plain": [
              "9"
            ]
          },
          "execution_count": 35,
          "metadata": {},
          "output_type": "execute_result"
        }
      ],
      "source": [
        "# Show the numpy array size\n",
        "\n",
        "A.size"
      ]
    },
    {
      "cell_type": "markdown",
      "metadata": {
        "id": "5dfeWPEfWdFH"
      },
      "source": [
        "<hr>\n"
      ]
    },
    {
      "cell_type": "markdown",
      "metadata": {
        "id": "nS_GPAqMWdFI"
      },
      "source": [
        "<h2 id=\"access\">Truy cập các phần tử khác nhau của Mảng Numpy</h2>\n"
      ]
    },
    {
      "cell_type": "markdown",
      "metadata": {
        "id": "EQjkeotyWdFI"
      },
      "source": [
        "Chúng ta có thể sử dụng dấu ngoặc vuông để truy cập các phần tử khác nhau của mảng. Sự tương ứng giữa dấu ngoặc vuông với danh sách và biểu diễn hình chữ nhật được thể hiện trong hình sau với mảng 3x3:"
      ]
    },
    {
      "cell_type": "markdown",
      "metadata": {
        "id": "N1ludHn6WdFP"
      },
      "source": [
        "<img src=\"https://cf-courses-data.s3.us.cloud-object-storage.appdomain.cloud/IBMDeveloperSkillsNetwork-PY0101EN-SkillsNetwork/labs/Module%205/images/NumTwoEg.png\" width=\"500\" />\n"
      ]
    },
    {
      "cell_type": "markdown",
      "metadata": {
        "id": "91gZpm9xWdFQ"
      },
      "source": [
        "Chúng ta có thể truy cập vào cột thứ 2 hàng thứ 3 như trong hình sau:"
      ]
    },
    {
      "cell_type": "markdown",
      "metadata": {
        "id": "-K4Jr2gZWdFQ"
      },
      "source": [
        "<img src=\"https://cf-courses-data.s3.us.cloud-object-storage.appdomain.cloud/IBMDeveloperSkillsNetwork-PY0101EN-SkillsNetwork/labs/Module%205/images/NumTwoFT.png\" width=\"400\" />\n"
      ]
    },
    {
      "cell_type": "markdown",
      "metadata": {
        "id": "EMr4XVZeWdFQ"
      },
      "source": [
        "Chúng ta chỉ cần sử dụng dấu ngoặc vuông và các chỉ số tương ứng với phần tử mà chúng ta muốn:"
      ]
    },
    {
      "cell_type": "code",
      "execution_count": 36,
      "metadata": {
        "colab": {
          "base_uri": "https://localhost:8080/"
        },
        "id": "Q8Ac6r-aWdFR",
        "outputId": "d70bd04d-2029-4dcc-c2d7-dc8062a11503"
      },
      "outputs": [
        {
          "data": {
            "text/plain": [
              "23"
            ]
          },
          "execution_count": 36,
          "metadata": {},
          "output_type": "execute_result"
        }
      ],
      "source": [
        "# Access the element on the second row and third column\n",
        "\n",
        "A[1, 2]"
      ]
    },
    {
      "cell_type": "markdown",
      "metadata": {
        "id": "bJmPBXUhWdFZ"
      },
      "source": [
        "Chúng ta cũng có thể sử dụng ký hiệu sau để lấy các phần tử:"
      ]
    },
    {
      "cell_type": "code",
      "execution_count": 37,
      "metadata": {
        "colab": {
          "base_uri": "https://localhost:8080/"
        },
        "id": "GHiFB19TWdFZ",
        "outputId": "d5c50afc-d09a-4af0-dfdd-14c58c143f64"
      },
      "outputs": [
        {
          "data": {
            "text/plain": [
              "23"
            ]
          },
          "execution_count": 37,
          "metadata": {},
          "output_type": "execute_result"
        }
      ],
      "source": [
        "# Access the element on the second row and third column\n",
        "\n",
        "A[1][2]"
      ]
    },
    {
      "cell_type": "markdown",
      "metadata": {
        "id": "8xycrmcPWdFc"
      },
      "source": [
        "Hãy xem xét các phần tử được hiển thị trong hình sau:"
      ]
    },
    {
      "cell_type": "markdown",
      "metadata": {
        "id": "iJtPe8PxWdFd"
      },
      "source": [
        "<img src=\"https://cf-courses-data.s3.us.cloud-object-storage.appdomain.cloud/IBMDeveloperSkillsNetwork-PY0101EN-SkillsNetwork/labs/Module%205/images/NumTwoFF.png\" width=\"400\" />\n"
      ]
    },
    {
      "cell_type": "markdown",
      "metadata": {
        "id": "Nsm3CrxpWdFd"
      },
      "source": [
        "Chúng ta có thể truy cập phần tử như sau:"
      ]
    },
    {
      "cell_type": "code",
      "execution_count": 38,
      "metadata": {
        "colab": {
          "base_uri": "https://localhost:8080/"
        },
        "id": "oExl9EnmWdFe",
        "outputId": "13185d8a-2346-4ba7-8873-28d632407e5d"
      },
      "outputs": [
        {
          "data": {
            "text/plain": [
              "11"
            ]
          },
          "execution_count": 38,
          "metadata": {},
          "output_type": "execute_result"
        }
      ],
      "source": [
        "# Access the element on the first row and first column\n",
        "\n",
        "A[0][0]"
      ]
    },
    {
      "cell_type": "markdown",
      "metadata": {
        "id": "QTaI2xuxWdFe"
      },
      "source": [
        "Chúng ta cũng có thể sử dụng slicing trong các mảng numpy. Hãy xem xét hình sau. Chúng ta muốn lấy hai cột đầu ở hàng đầu tiên."
      ]
    },
    {
      "cell_type": "markdown",
      "metadata": {
        "id": "AaLo2JzxWdFf"
      },
      "source": [
        "<img src=\"https://cf-courses-data.s3.us.cloud-object-storage.appdomain.cloud/IBMDeveloperSkillsNetwork-PY0101EN-SkillsNetwork/labs/Module%205/images/NumTwoFSF.png\" width=\"400\" />\n"
      ]
    },
    {
      "cell_type": "markdown",
      "metadata": {
        "id": "rmEhx7mCWdFf"
      },
      "source": [
        "Điều này có thể được thực hiện với cú pháp sau:"
      ]
    },
    {
      "cell_type": "code",
      "execution_count": 39,
      "metadata": {
        "colab": {
          "base_uri": "https://localhost:8080/"
        },
        "id": "SBlbpfeQWdFf",
        "outputId": "1443dd23-c7a6-4c89-edb5-d8e96149b548"
      },
      "outputs": [
        {
          "data": {
            "text/plain": [
              "array([11, 12])"
            ]
          },
          "execution_count": 39,
          "metadata": {},
          "output_type": "execute_result"
        }
      ],
      "source": [
        "# Access the element on the first row and first and second columns\n",
        "\n",
        "A[0][0:2]"
      ]
    },
    {
      "cell_type": "markdown",
      "metadata": {
        "id": "syraMuUaWdFg"
      },
      "source": [
        "Tương tự, chúng ta có thể thu được hai hàng đầu tiên của cột thứ 3 như sau:"
      ]
    },
    {
      "cell_type": "code",
      "execution_count": 40,
      "metadata": {
        "colab": {
          "base_uri": "https://localhost:8080/"
        },
        "id": "cNEWwMeRWdFh",
        "outputId": "8f06f8f7-f53d-437e-d5dc-9c6a6e50eefb"
      },
      "outputs": [
        {
          "data": {
            "text/plain": [
              "array([13, 23])"
            ]
          },
          "execution_count": 40,
          "metadata": {},
          "output_type": "execute_result"
        }
      ],
      "source": [
        "# Access the element on the first and second rows and third column\n",
        "\n",
        "A[0:2, 2]"
      ]
    },
    {
      "cell_type": "markdown",
      "metadata": {
        "id": "O75ttt2xWdFh"
      },
      "source": [
        "Tương ứng với hình sau:"
      ]
    },
    {
      "cell_type": "markdown",
      "metadata": {
        "id": "WEnkZY15WdFh"
      },
      "source": [
        "<img src=\"https://cf-courses-data.s3.us.cloud-object-storage.appdomain.cloud/IBMDeveloperSkillsNetwork-PY0101EN-SkillsNetwork/labs/Module%205/images/2D_numpy.png\" width=\"550\"><br />\n"
      ]
    },
    {
      "cell_type": "markdown",
      "metadata": {
        "id": "1EwCF7fOWdFi"
      },
      "source": [
        "<h2 id=\"op\">Các phép toán cơ bản</h2>\n"
      ]
    },
    {
      "cell_type": "markdown",
      "metadata": {
        "id": "8gGPLbD5WdFj"
      },
      "source": [
        "Chúng ta cũng có thể cộng mảng. Quá trình này giống hệt với phép cộng ma trận. Phép cộng ma trận của <code> X</code> và <code> Y</code> được hiển thị trong hình sau:"
      ]
    },
    {
      "cell_type": "markdown",
      "metadata": {
        "id": "ob8IDPa5WdFj"
      },
      "source": [
        "<img src=\"https://cf-courses-data.s3.us.cloud-object-storage.appdomain.cloud/IBMDeveloperSkillsNetwork-PY0101EN-SkillsNetwork/labs/Module%205/images/NumTwoAdd.png\" width=\"500\" />\n"
      ]
    },
    {
      "cell_type": "markdown",
      "metadata": {
        "id": "5DEulZsrWdFj"
      },
      "source": [
        "Mảng numpy được cung cấp bởi <code> X</code> và <code> Y</code>."
      ]
    },
    {
      "cell_type": "code",
      "execution_count": 41,
      "metadata": {
        "colab": {
          "base_uri": "https://localhost:8080/"
        },
        "id": "7dYS9u-gWdFk",
        "outputId": "97571ac9-c4cf-4a5b-e6bd-c9cfdeacbd68"
      },
      "outputs": [
        {
          "data": {
            "text/plain": [
              "array([[1, 0],\n",
              "       [0, 1]])"
            ]
          },
          "execution_count": 41,
          "metadata": {},
          "output_type": "execute_result"
        }
      ],
      "source": [
        "# Create a numpy array X\n",
        "\n",
        "X = np.array([[1, 0], [0, 1]])\n",
        "X"
      ]
    },
    {
      "cell_type": "code",
      "execution_count": 42,
      "metadata": {
        "colab": {
          "base_uri": "https://localhost:8080/"
        },
        "id": "d5K2MXlIWdFl",
        "outputId": "7c2fac97-0b0f-45cd-de04-b6557dc41f49"
      },
      "outputs": [
        {
          "data": {
            "text/plain": [
              "array([[2, 1],\n",
              "       [1, 2]])"
            ]
          },
          "execution_count": 42,
          "metadata": {},
          "output_type": "execute_result"
        }
      ],
      "source": [
        "# Create a numpy array Y\n",
        "\n",
        "Y = np.array([[2, 1], [1, 2]])\n",
        "Y"
      ]
    },
    {
      "cell_type": "markdown",
      "metadata": {
        "id": "Qh634RJbWdFm"
      },
      "source": [
        "Chúng ta có thể cộng các mảng numpy như sau:"
      ]
    },
    {
      "cell_type": "code",
      "execution_count": 43,
      "metadata": {
        "colab": {
          "base_uri": "https://localhost:8080/"
        },
        "id": "ch7xebc1WdFm",
        "outputId": "4251e735-48cd-4ed8-d743-8120aed0472d"
      },
      "outputs": [
        {
          "data": {
            "text/plain": [
              "array([[3, 1],\n",
              "       [1, 3]])"
            ]
          },
          "execution_count": 43,
          "metadata": {},
          "output_type": "execute_result"
        }
      ],
      "source": [
        "# Add X and Y\n",
        "\n",
        "Z = X + Y\n",
        "Z"
      ]
    },
    {
      "cell_type": "markdown",
      "metadata": {
        "id": "c5TlSQgCWdFn"
      },
      "source": [
        "Nhân một mảng numpy với một tỷ lệ cũng giống như nhân một ma trận với một vô hướng. Nếu nhân ma trận <code> Y</code> với hệ số vô hướng 2, chúng ta chỉ cần nhân mọi phần tử trong ma trận với 2 như trong hình."
      ]
    },
    {
      "cell_type": "markdown",
      "metadata": {
        "id": "qy59asNMWdFn"
      },
      "source": [
        "<img src=\"https://cf-courses-data.s3.us.cloud-object-storage.appdomain.cloud/IBMDeveloperSkillsNetwork-PY0101EN-SkillsNetwork/labs/Module%205/images/NumTwoDb.png\" width=\"500\" />\n"
      ]
    },
    {
      "cell_type": "markdown",
      "metadata": {
        "id": "I5HbQHzWWdFo"
      },
      "source": [
        "Chúng ta có thể thực hiện thao tác tương tự trong numpy như sauz:"
      ]
    },
    {
      "cell_type": "code",
      "execution_count": 44,
      "metadata": {
        "colab": {
          "base_uri": "https://localhost:8080/"
        },
        "id": "moIVrK-bWdFo",
        "outputId": "df175468-c43e-4f2e-c4c5-83a3ce4e67a7"
      },
      "outputs": [
        {
          "data": {
            "text/plain": [
              "array([[2, 1],\n",
              "       [1, 2]])"
            ]
          },
          "execution_count": 44,
          "metadata": {},
          "output_type": "execute_result"
        }
      ],
      "source": [
        "# Create a numpy array Y\n",
        "\n",
        "Y = np.array([[2, 1], [1, 2]])\n",
        "Y"
      ]
    },
    {
      "cell_type": "code",
      "execution_count": 45,
      "metadata": {
        "colab": {
          "base_uri": "https://localhost:8080/"
        },
        "id": "L6GlfpdtWdFp",
        "outputId": "c86ffa64-c68e-4736-f688-47b4175476d3"
      },
      "outputs": [
        {
          "data": {
            "text/plain": [
              "array([[4, 2],\n",
              "       [2, 4]])"
            ]
          },
          "execution_count": 45,
          "metadata": {},
          "output_type": "execute_result"
        }
      ],
      "source": [
        "# Multiply Y with 2\n",
        "\n",
        "Z = 2 * Y\n",
        "Z"
      ]
    },
    {
      "cell_type": "markdown",
      "metadata": {
        "id": "RlJwJ10jWdFp"
      },
      "source": [
        "Phép nhân hai mảng tương ứng với tích cặp phần tử hoặc phép nhân Hadamard. Xem xét ma trận <code> X</code> và <code> Y</code>. Phép nhân Hadamard tương ứng với việc nhân từng phần tử ở cùng một vị trí, tức là nhân các phần tử chứa trong các ô màu giống nhau với nhau. Kết quả là một ma trận mới có cùng kích thước với ma trận <code> Y</code> hoặc <code> X</code>, như trong hình sau."
      ]
    },
    {
      "cell_type": "markdown",
      "metadata": {
        "id": "JJehog9BWdFq"
      },
      "source": [
        "<img src=\"https://cf-courses-data.s3.us.cloud-object-storage.appdomain.cloud/IBMDeveloperSkillsNetwork-PY0101EN-SkillsNetwork/labs/Module%205/images/NumTwoMul.png\" width=\"500\" />\n"
      ]
    },
    {
      "cell_type": "markdown",
      "metadata": {
        "id": "qc9zl_leWdFq"
      },
      "source": [
        "Chúng ta có thể thực hiện tích cặp phần tử của mảng <code> X</code> và <code> Y</code> như sau:"
      ]
    },
    {
      "cell_type": "code",
      "execution_count": 46,
      "metadata": {
        "colab": {
          "base_uri": "https://localhost:8080/"
        },
        "id": "9kz5haDYWdFr",
        "outputId": "50d23cb5-b151-4c7e-c148-ed2e9d544a0c"
      },
      "outputs": [
        {
          "data": {
            "text/plain": [
              "array([[2, 1],\n",
              "       [1, 2]])"
            ]
          },
          "execution_count": 46,
          "metadata": {},
          "output_type": "execute_result"
        }
      ],
      "source": [
        "# Create a numpy array Y\n",
        "\n",
        "Y = np.array([[2, 1], [1, 2]])\n",
        "Y"
      ]
    },
    {
      "cell_type": "code",
      "execution_count": 47,
      "metadata": {
        "colab": {
          "base_uri": "https://localhost:8080/"
        },
        "id": "qvuCRPCqWdFr",
        "outputId": "b0a97ac7-5b3d-4f34-d6fd-f08bc8c6ca4f"
      },
      "outputs": [
        {
          "data": {
            "text/plain": [
              "array([[1, 0],\n",
              "       [0, 1]])"
            ]
          },
          "execution_count": 47,
          "metadata": {},
          "output_type": "execute_result"
        }
      ],
      "source": [
        "# Create a numpy array X\n",
        "\n",
        "X = np.array([[1, 0], [0, 1]])\n",
        "X"
      ]
    },
    {
      "cell_type": "code",
      "execution_count": 48,
      "metadata": {
        "colab": {
          "base_uri": "https://localhost:8080/"
        },
        "id": "LRfT8MAtWdFr",
        "outputId": "f509040f-5ac1-4f4d-8d65-8bcada856ff7"
      },
      "outputs": [
        {
          "data": {
            "text/plain": [
              "array([[2, 0],\n",
              "       [0, 2]])"
            ]
          },
          "execution_count": 48,
          "metadata": {},
          "output_type": "execute_result"
        }
      ],
      "source": [
        "# Multiply X with Y\n",
        "\n",
        "Z = X * Y\n",
        "Z"
      ]
    },
    {
      "cell_type": "markdown",
      "metadata": {
        "id": "PZO5e_xHWdFs"
      },
      "source": [
        "Chúng ta cũng có thể thực hiện phép nhân ma trận với các mảng numpy <code> A</code> và <code> B</code> như sau:"
      ]
    },
    {
      "cell_type": "markdown",
      "metadata": {
        "id": "vqRRLZTuWdFt"
      },
      "source": [
        "Trước tiên, chúng ta xác định ma trận <code> A</code> và <code> B</code>:"
      ]
    },
    {
      "cell_type": "code",
      "execution_count": 49,
      "metadata": {
        "colab": {
          "base_uri": "https://localhost:8080/"
        },
        "id": "c0cgdjZ8WdFt",
        "outputId": "4e32d11b-f12b-4fa3-e023-9ea07af3d711"
      },
      "outputs": [
        {
          "data": {
            "text/plain": [
              "array([[0, 1, 1],\n",
              "       [1, 0, 1]])"
            ]
          },
          "execution_count": 49,
          "metadata": {},
          "output_type": "execute_result"
        }
      ],
      "source": [
        "# Create a matrix A\n",
        "\n",
        "A = np.array([[0, 1, 1], [1, 0, 1]])\n",
        "A"
      ]
    },
    {
      "cell_type": "code",
      "execution_count": 50,
      "metadata": {
        "colab": {
          "base_uri": "https://localhost:8080/"
        },
        "id": "ToNHQXJMWdFt",
        "outputId": "afe5026d-cc99-4c1e-aba9-73fbcb79d97c"
      },
      "outputs": [
        {
          "data": {
            "text/plain": [
              "array([[ 1,  1],\n",
              "       [ 1,  1],\n",
              "       [-1,  1]])"
            ]
          },
          "execution_count": 50,
          "metadata": {},
          "output_type": "execute_result"
        }
      ],
      "source": [
        "# Create a matrix B\n",
        "\n",
        "B = np.array([[1, 1], [1, 1], [-1, 1]])\n",
        "B"
      ]
    },
    {
      "cell_type": "markdown",
      "metadata": {
        "id": "a1DpbcdZWdFu"
      },
      "source": [
        "Chúng ta sử dụng hàm numpy <code> dot</code> để nhân các mảng với nhau."
      ]
    },
    {
      "cell_type": "code",
      "execution_count": 51,
      "metadata": {
        "colab": {
          "base_uri": "https://localhost:8080/"
        },
        "id": "GSsBJU5wWdFu",
        "outputId": "3aaac6d1-5af4-4536-9d35-7627c5362c94"
      },
      "outputs": [
        {
          "data": {
            "text/plain": [
              "array([[0, 2],\n",
              "       [0, 2]])"
            ]
          },
          "execution_count": 51,
          "metadata": {},
          "output_type": "execute_result"
        }
      ],
      "source": [
        "# Calculate the dot product\n",
        "\n",
        "Z = np.dot(A,B)\n",
        "Z"
      ]
    },
    {
      "cell_type": "code",
      "execution_count": 52,
      "metadata": {
        "colab": {
          "base_uri": "https://localhost:8080/"
        },
        "id": "FpNzWrqCWdFv",
        "outputId": "a21c91e9-ec93-4413-c93f-969ad1b3ffca"
      },
      "outputs": [
        {
          "data": {
            "text/plain": [
              "array([[0.        , 0.90929743],\n",
              "       [0.        , 0.90929743]])"
            ]
          },
          "execution_count": 52,
          "metadata": {},
          "output_type": "execute_result"
        }
      ],
      "source": [
        "# Calculate the sine of Z\n",
        "\n",
        "np.sin(Z)"
      ]
    },
    {
      "cell_type": "markdown",
      "metadata": {
        "id": "GYyVDAaNWdFv"
      },
      "source": [
        "Chúng ta sử dụng thuộc tính numpy <code> T</code> để tính toán ma trận chuyển vị."
      ]
    },
    {
      "cell_type": "code",
      "execution_count": 53,
      "metadata": {
        "colab": {
          "base_uri": "https://localhost:8080/"
        },
        "id": "An0SxX5vWdFv",
        "outputId": "3c2d4b44-a6a1-48ba-f159-611662763e92"
      },
      "outputs": [
        {
          "data": {
            "text/plain": [
              "array([[1, 1],\n",
              "       [2, 2],\n",
              "       [3, 3]])"
            ]
          },
          "execution_count": 53,
          "metadata": {},
          "output_type": "execute_result"
        }
      ],
      "source": [
        "# Create a matrix C\n",
        "\n",
        "C = np.array([[1,1],[2,2],[3,3]])\n",
        "C"
      ]
    },
    {
      "cell_type": "code",
      "execution_count": 54,
      "metadata": {
        "colab": {
          "base_uri": "https://localhost:8080/"
        },
        "id": "2UwIQGvYWdFx",
        "outputId": "ff4ad2d5-c05c-4cb5-fb5f-0858274ea389"
      },
      "outputs": [
        {
          "data": {
            "text/plain": [
              "array([[1, 2, 3],\n",
              "       [1, 2, 3]])"
            ]
          },
          "execution_count": 54,
          "metadata": {},
          "output_type": "execute_result"
        }
      ],
      "source": [
        "# Get the transposed of C\n",
        "\n",
        "C.T"
      ]
    },
    {
      "cell_type": "markdown",
      "metadata": {
        "id": "cSX1LZdyWdFx"
      },
      "source": [
        "<h2>Quiz về Mảng Numpy 2D</h2>\n"
      ]
    },
    {
      "cell_type": "markdown",
      "metadata": {
        "id": "S9NABqEmWdFy"
      },
      "source": [
        "Hãy xem xét list <code> a</code> sau, chuyển nó thành mảng Numpy."
      ]
    },
    {
      "cell_type": "code",
      "execution_count": 55,
      "metadata": {
        "colab": {
          "base_uri": "https://localhost:8080/"
        },
        "id": "OEtUYshbWdFy",
        "outputId": "d0c9ca03-d9ab-4cd2-93c8-7e9b8b6fdf3a"
      },
      "outputs": [
        {
          "data": {
            "text/plain": [
              "array([[ 1,  2,  3,  4],\n",
              "       [ 5,  6,  7,  8],\n",
              "       [ 9, 10, 11, 12]])"
            ]
          },
          "execution_count": 55,
          "metadata": {},
          "output_type": "execute_result"
        }
      ],
      "source": [
        "# Write your code below and press Shift+Enter to execute\n",
        "\n",
        "a = [[1, 2, 3, 4], [5, 6, 7, 8], [9, 10, 11, 12]]\n",
        "a=np.array(a)\n",
        "a"
      ]
    },
    {
      "cell_type": "markdown",
      "metadata": {
        "id": "9Vrw9aa_WdFy"
      },
      "source": [
        "<details><summary>Bấm vào đây để xem đáp án</summary>\n",
        "\n",
        "```python\n",
        "A = np.array(a)\n",
        "A\n",
        "```\n",
        "\n",
        "</details>\n"
      ]
    },
    {
      "cell_type": "markdown",
      "metadata": {
        "id": "1MS4kXrtWdFz"
      },
      "source": [
        "Tính kích thước mảng numpy."
      ]
    },
    {
      "cell_type": "code",
      "execution_count": 56,
      "metadata": {
        "colab": {
          "base_uri": "https://localhost:8080/"
        },
        "id": "4ajATiosWdF0",
        "outputId": "0c7d49f4-3066-4b7f-9667-47f3fdbedfe1"
      },
      "outputs": [
        {
          "name": "stdout",
          "output_type": "stream",
          "text": [
            "12\n"
          ]
        },
        {
          "data": {
            "text/plain": [
              "(3, 4)"
            ]
          },
          "execution_count": 56,
          "metadata": {},
          "output_type": "execute_result"
        }
      ],
      "source": [
        "# Write your code below and press Shift+Enter to execute\n",
        "print(a.size)\n",
        "a.shape"
      ]
    },
    {
      "cell_type": "markdown",
      "metadata": {
        "id": "8MTDYlw4WdF0"
      },
      "source": [
        "<details><summary>Bấm vào đây để xem đáp án</summary>\n",
        "\n",
        "```python\n",
        "A.size\n",
        "```\n",
        "\n",
        "</details>\n"
      ]
    },
    {
      "cell_type": "markdown",
      "metadata": {
        "id": "Xxg04WLuWdF0"
      },
      "source": [
        "Truy cập phần tử trên hàng đầu, cột đầu tiên và cột thứ hai."
      ]
    },
    {
      "cell_type": "code",
      "execution_count": 57,
      "metadata": {
        "colab": {
          "base_uri": "https://localhost:8080/"
        },
        "id": "SUsVfyG-WdF1",
        "outputId": "028d45c9-416c-42e8-9afa-343766b2374f"
      },
      "outputs": [
        {
          "data": {
            "text/plain": [
              "array([1, 2])"
            ]
          },
          "execution_count": 57,
          "metadata": {},
          "output_type": "execute_result"
        }
      ],
      "source": [
        "# Write your code below and press Shift+Enter to execute\n",
        "a[0][0:2]"
      ]
    },
    {
      "cell_type": "markdown",
      "metadata": {
        "id": "xw7hZ2rXWdF1"
      },
      "source": [
        "<details><summary>Bấm vào đây để xem đáp án</summary>\n",
        "\n",
        "```python\n",
        "A[0][0:2]\n",
        "```\n",
        "\n",
        "</details>\n"
      ]
    },
    {
      "cell_type": "markdown",
      "metadata": {
        "id": "z-eH-JM1WdF2"
      },
      "source": [
        "Thực hiện phép nhân ma trận với mảng numpy <code> A</code> và <code> B</code>."
      ]
    },
    {
      "cell_type": "code",
      "execution_count": 61,
      "metadata": {
        "colab": {
          "base_uri": "https://localhost:8080/",
          "height": 201
        },
        "id": "esfC1yo2WdF2",
        "outputId": "95039696-b630-48b8-a86a-f5d89155cb97"
      },
      "outputs": [
        {
          "data": {
            "text/plain": [
              "array([[-4,  4],\n",
              "       [ 2, 14]])"
            ]
          },
          "execution_count": 61,
          "metadata": {},
          "output_type": "execute_result"
        }
      ],
      "source": [
        "# Write your code below and press Shift+Enter to execute\n",
        "\n",
        "B = np.array([[0, 1], [1, 0], [1, 1], [-1, 0]])\n",
        "A = np.random.randint(0,10,size=(B.shape[1],B.shape[0]))\n",
        "c = np.dot(A,B)\n",
        "c"
      ]
    },
    {
      "cell_type": "markdown",
      "metadata": {
        "id": "sgr2nxbMWdF2"
      },
      "source": [
        "<details><summary>Bấm vào đây để xem đáp án</summary>\n",
        "\n",
        "```python\n",
        "X = np.dot(A,B)\n",
        "X\n",
        "```\n",
        "\n",
        "</details>\n"
      ]
    },
    {
      "cell_type": "markdown",
      "metadata": {
        "id": "gxl23VlcWdF3"
      },
      "source": [
        "<hr>\n",
        "Nguồn: IBM\n",
        "<hr>"
      ]
    }
  ],
  "metadata": {
    "colab": {
      "collapsed_sections": [
        "UyllUD5VWdF4"
      ],
      "provenance": []
    },
    "kernelspec": {
      "display_name": "Python 3",
      "language": "python",
      "name": "python3"
    },
    "language_info": {
      "codemirror_mode": {
        "name": "ipython",
        "version": 3
      },
      "file_extension": ".py",
      "mimetype": "text/x-python",
      "name": "python",
      "nbconvert_exporter": "python",
      "pygments_lexer": "ipython3",
      "version": "3.11.7"
    }
  },
  "nbformat": 4,
  "nbformat_minor": 0
}
