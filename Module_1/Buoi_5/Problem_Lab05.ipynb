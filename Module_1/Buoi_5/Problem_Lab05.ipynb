{
  "nbformat": 4,
  "nbformat_minor": 0,
  "metadata": {
    "colab": {
      "provenance": []
    },
    "kernelspec": {
      "name": "python3",
      "display_name": "Python 3"
    },
    "language_info": {
      "name": "python"
    }
  },
  "cells": [
    {
      "cell_type": "markdown",
      "source": [
        "#Bài tập 1: Thao tác với ma trận  \n",
        "**Lý thuyết**:  \n",
        "NumPy cung cấp các công cụ mạnh mẽ để thao tác ma trận, bao gồm tính toán các định thức, tìm nghịch đảo và tính toán các giá trị riêng và vectơ riêng.\n",
        "  \n",
        "**Đề bài**:  \n",
        "Tạo ma trận 5x5 ngẫu nhiên và thực hiện các thao tác sau:  \n",
        "* Tính định thức (determinant) của ma trận.  \n",
        "* Tìm nghịch đảo (transpose) của ma trận.  \n",
        "* Tính các giá trị riêng (eigent value) và vectơ riêng (eigent vector) của ma trận.   \n",
        "(Phần này sẽ liên quan tới đại số tuyến tính, mọi người có thể tự tìm hiểu để hiểu chi tiết về các khái niệm trên)\n",
        "\n",
        "<details>\n",
        "  <summary>Hint</summary>\n",
        "\n",
        "```python\n",
        "import numpy as np\n",
        "\n",
        "# Generate a random 5x5 matrix\n",
        "matrix = np.random.rand(5, 5)\n",
        "\n",
        "# Compute determinant\n",
        "det = np.linalg.det(matrix)\n",
        "\n",
        "# Find inverse\n",
        "inverse = np.linalg.inv(matrix)\n",
        "\n",
        "# Calculate eigenvalues and eigenvectors\n",
        "eigenvalues, eigenvectors = np.linalg.eig(matrix)\n",
        "\n",
        "```\n",
        "</details>"
      ],
      "metadata": {
        "id": "jxgT4r6ovuvd"
      }
    },
    {
      "cell_type": "code",
      "execution_count": 5,
      "metadata": {
        "id": "-SEd8zd9tBN8",
        "outputId": "b6067f39-4db7-472e-c67d-5c0ccf5a17e0",
        "colab": {
          "base_uri": "https://localhost:8080/"
        }
      },
      "outputs": [
        {
          "output_type": "stream",
          "name": "stdout",
          "text": [
            "Định thức của ma trận:  -6506.0\n",
            "Nghịch đảo của ma trận:  [[2 1 7 9 6]\n",
            " [7 5 0 6 6]\n",
            " [7 0 0 1 9]\n",
            " [0 0 5 7 7]\n",
            " [5 2 6 3 9]]\n",
            "Giá trị riêng:  [22.06839189+0.j        -6.00635897+0.j         1.96208934+3.5265265j\n",
            "  1.96208934-3.5265265j  3.01378841+0.j       ]\n",
            "Ma trận riêng:  [[ 0.35704026+0.j         -0.45315867+0.j         -0.35780023+0.30939203j\n",
            "  -0.35780023-0.30939203j  0.47301525+0.j        ]\n",
            " [ 0.10514763+0.j          0.11981641+0.j          0.01285006+0.18474419j\n",
            "   0.01285006-0.18474419j -0.41979363+0.j        ]\n",
            " [ 0.40500553+0.j          0.70762792+0.j         -0.04794418-0.0719214j\n",
            "  -0.04794418+0.0719214j   0.35944764+0.j        ]\n",
            " [ 0.42511137+0.j          0.30371891+0.j          0.73247814+0.j\n",
            "   0.73247814-0.j         -0.66203176+0.j        ]\n",
            " [ 0.71883035+0.j         -0.43279187+0.j         -0.16637119-0.41265614j\n",
            "  -0.16637119+0.41265614j  0.18039186+0.j        ]]\n"
          ]
        }
      ],
      "source": [
        "# Your code here\n",
        "import numpy as np\n",
        "\n",
        "a = np.random.randint(0,10,size=(5,5))\n",
        "dinhthuc = np.linalg.det(a)\n",
        "giatri, vector = np.linalg.eig(a)\n",
        "print(\"Định thức của ma trận: \",dinhthuc)\n",
        "print(\"Nghịch đảo của ma trận: \",a.T)\n",
        "print(\"Giá trị riêng: \",giatri)\n",
        "print(\"Ma trận riêng: \",vector)"
      ]
    },
    {
      "cell_type": "markdown",
      "source": [
        "# Bài tập 2: Optimization\n",
        "**Lý thuyết:**  \n",
        "Gradient descent là một thuật toán tối ưu hóa được sử dụng để cực tiểu hóa hàm bằng cách di chuyển lặp đi lặp lại theo hướng dốc xuống.\n",
        "\n",
        "**Đề bài:**  \n",
        "Triển khai gradient descent sử dụng NumPy để tối ưu hàm số sau:\n",
        " $$ f(x) = x^2 + 5 \\sin(x) $$\n",
        "<details>\n",
        "  <summary>Hint</summary>\n",
        "\n",
        "```python\n",
        "import numpy as np\n",
        "\n",
        "def gradient_descent(x, learning_rate, iterations):\n",
        "    for _ in range(iterations):\n",
        "        gradient = 2*x + 5*np.cos(x)  # Đạo hàm riêng theo x\n",
        "        x = x - learning_rate * gradient # Cập nhật tham số\n",
        "    return x\n",
        "\n",
        "# Khởi tạo các hyperparameters\n",
        "x_initial = 5  # Input đầu vào\n",
        "learning_rate = 0.1 # Tốc độ học\n",
        "iterations = 100 # Số lần lặp\n",
        "\n",
        "# Run gradient descent\n",
        "minima = gradient_descent(x_initial, learning_rate, iterations)\n",
        "```\n",
        "\n",
        "</details>"
      ],
      "metadata": {
        "id": "j5y16Eqkxd_o"
      }
    },
    {
      "cell_type": "code",
      "source": [
        "# Your code here\n",
        "def gradient_descent(x, learning_rate, iterations):\n",
        "    for _ in range(iterations):\n",
        "        gradient = x**2 + 5*np.sin(x)  # Đạo hàm riêng theo x\n",
        "        x = x - learning_rate * gradient # Cập nhật tham số\n",
        "    return x\n",
        "\n",
        "# Khởi tạo các hyperparameters\n",
        "x_initial = 5  # Input đầu vào\n",
        "learning_rate = 0.01 # Tốc độ học\n",
        "iterations = 100 # Số lần lặp\n",
        "\n",
        "# Run gradient descent\n",
        "minima = gradient_descent(x_initial, learning_rate, iterations)\n",
        "minima"
      ],
      "metadata": {
        "id": "s3Q3kOnuwxxW",
        "outputId": "f26cb68c-ef5c-44f6-e54d-8b479dfea886",
        "colab": {
          "base_uri": "https://localhost:8080/"
        }
      },
      "execution_count": 18,
      "outputs": [
        {
          "output_type": "execute_result",
          "data": {
            "text/plain": [
              "0.04234237989932285"
            ]
          },
          "metadata": {},
          "execution_count": 18
        }
      ]
    },
    {
      "cell_type": "markdown",
      "source": [
        "# Bài tập 3: Phân tích thống kê  \n",
        "**Lý thuyết**:  \n",
        "NumPy cung cấp các chức năng để phân tích thống kê, bao gồm tính toán giá trị trung bình (mean), trung vị (median), độ lệch chuẩn (standard deviation) và mối tương quan (correlation).  \n",
        "\n",
        "**Đề Bài**:  \n",
        "Thực hiện phân tích thống kê trên tập dữ liệu bai3.csv bằng NumPy:  \n",
        "* Tính giá trị trung bình, trung vị và độ lệch chuẩn của tập dữ liệu.\n",
        "* Tính toán ma trận tương quan giữa các biến khác nhau.\n",
        "* Xác định các ngoại lệ trong tập dữ liệu bằng cách sử dụng điểm z.\n",
        "\n",
        "<details>\n",
        "  <summary>Hint</summary>\n",
        "\n",
        "```python\n",
        "  # Load dataset\n",
        "  data = np.loadtxt('dataset.csv', delimiter=',')\n",
        "\n",
        "  # Calculate mean, median, and standard deviation\n",
        "  mean = np.mean(data, axis=0)\n",
        "  median = np.median(data, axis=0)\n",
        "  std_dev = np.std(data, axis=0)\n",
        "\n",
        "  # Compute correlation matrix\n",
        "  correlation_matrix = np.corrcoef(data, rowvar=False)\n",
        "\n",
        "  # Identify outliers using z-scores\n",
        "  z_scores = np.abs((data - mean) / std_dev)\n",
        "  outliers = np.where(z_scores > 3)\n",
        "```\n",
        "</details>"
      ],
      "metadata": {
        "id": "r9TwMgo-y5tm"
      }
    },
    {
      "cell_type": "code",
      "source": [
        "# Your code here\n",
        "import numpy as np\n",
        "\n",
        "with open(\"bai3.csv\",\"r\") as file:\n",
        "  data = file.read()\n",
        "data = data.split(\"\\n\")\n",
        "data = [i.split(\",\") for i in data]\n",
        "data = np.array(data[1:])\n",
        "data = data.reshape(data.size,)\n",
        "data = data.astype(float)\n",
        "\n",
        "mean = np.mean(data,axis=0)\n",
        "\n",
        "med = np.median(data,axis=0)\n",
        "\n",
        "std = np.std(data,axis=0)\n",
        "\n",
        "corre = np.corrcoef(data)\n",
        "\n",
        "z_core = np.array([np.abs((x-mean)/std) for x in data])\n",
        "print(z_core)\n",
        "ngoaile = np.where(z_core>2)\n",
        "ngoaile"
      ],
      "metadata": {
        "id": "KjYxequp1pld",
        "outputId": "6261b440-7c37-40d4-a8c0-359612f0dfb9",
        "colab": {
          "base_uri": "https://localhost:8080/"
        }
      },
      "execution_count": 62,
      "outputs": [
        {
          "output_type": "stream",
          "name": "stdout",
          "text": [
            "[1.65395538 0.58298202 0.02235075 1.23487884 0.39486322 1.04862261\n",
            " 0.21046955 0.90706787 0.7226742  1.09332411 0.76923825 0.86236637\n",
            " 0.3017351  1.37457102 0.72081163 0.02421331 0.44328984 1.13988816\n",
            " 1.00205855 1.69865687 0.39486322 0.07077737 1.65209281 0.39672578\n",
            " 2.07116934]\n"
          ]
        },
        {
          "output_type": "execute_result",
          "data": {
            "text/plain": [
              "(array([24]),)"
            ]
          },
          "metadata": {},
          "execution_count": 62
        }
      ]
    },
    {
      "cell_type": "markdown",
      "source": [
        "# Bài 4: Thao tác với tensor\n",
        "Đề cho một tensor đại diện cho một hình ảnh thang độ xám. Thực hiện các thao tác sau:\n",
        "\n",
        "1. Reshape: Reshape tensor thành một hình dạng khác trong khi vẫn đảm bảo tổng số phần tử không đổi.\n",
        "2. Transpose: Transpose tensor dọc theo các trục được chỉ định.\n",
        "3. Slice: Trích xuất một tập hợp con của tensor bằng cách cắt dọc theo các kích thước được chỉ định.\n",
        "4. Concatenate: Concatenate nhiều tensor dọc theo các trục được chỉ định.\n",
        "5. Các phép toán theo phần tử: Thực hiện các phép toán theo phần tử như cộng, trừ, nhân và chia với các giá trị vô hướng hoặc các tensor khác.\n",
        "6. Hoạt động rút gọn: Thực hiện các hoạt động rút gọn như tính tổng, trung bình, tối thiểu và tối đa dọc theo các trục được chỉ định.\n",
        "7. Indexing: Truy cập các phần tử riêng lẻ hoặc các tensor phụ bằng cách sử dụng các chỉ số nguyên hoặc boolean mark.\n",
        "\n",
        "<details>\n",
        "  <summary>Hint</summary>\n",
        "\n",
        "  ```python\n",
        "    # 1. Reshape the tensor\n",
        "    reshaped_tensor = image_tensor.reshape(1, 9)\n",
        "\n",
        "    # 2. Transpose the tensor\n",
        "    transposed_tensor = image_tensor.T\n",
        "\n",
        "    # 3. Slice the tensor\n",
        "    sliced_tensor = image_tensor[:2, :2]\n",
        "\n",
        "    # 4. Concatenate tensors\n",
        "    concatenated_tensor = np.concatenate((image_tensor, image_tensor), axis=0)\n",
        "\n",
        "    # 5. Element-wise operations\n",
        "    added_tensor = image_tensor + 0.1\n",
        "    multiplied_tensor = image_tensor * 2\n",
        "\n",
        "    # 6. Reduction operations\n",
        "    sum_tensor = np.sum(image_tensor)\n",
        "    mean_tensor = np.mean(image_tensor, axis=0)\n",
        "    max_tensor = np.max(image_tensor, axis=1)\n",
        "\n",
        "    # 7. Indexing\n",
        "    element = image_tensor[1, 2]\n",
        "  ```\n",
        "</details>"
      ],
      "metadata": {
        "id": "ZX1eKlF805bM"
      }
    },
    {
      "cell_type": "code",
      "source": [
        "image_tensor = np.array([\n",
        "    [0.1, 0.2, 0.3],\n",
        "    [0.4, 0.5, 0.6],\n",
        "    [0.7, 0.8, 0.9]\n",
        "])"
      ],
      "metadata": {
        "id": "sKx_zUMw041d"
      },
      "execution_count": 68,
      "outputs": []
    },
    {
      "cell_type": "code",
      "source": [
        "# your code here\n",
        "# Câu 1:\n",
        "image_tensor_reshape=image_tensor.reshape(image_tensor.size,)\n",
        "print(\"Câu 1:\",image_tensor_reshape)\n",
        "# Câu 2:\n",
        "image_tensor_T=image_tensor.T\n",
        "print(\"Câu 2:\",image_tensor_T)\n",
        "# Câu 3:\n",
        "son=image_tensor[2:,:]\n",
        "print(\"Câu 3:\",son)\n",
        "# Câu 4:\n",
        "image_tensor_concat = np.concatenate((image_tensor, image_tensor), axis=0)\n",
        "print(\"Câu 4:\",image_tensor_concat)\n",
        "# Câu 5:\n",
        "image_tensor_add=image_tensor + image_tensor\n",
        "image_tensor_minus=image_tensor - 3\n",
        "image_tensor_mul=image_tensor * image_tensor\n",
        "image_tensor_divi=image_tensor / 2\n",
        "image_tensor_dot=np.dot(image_tensor,3)\n",
        "print(\"Câu 5:\")\n",
        "print(\"- Add:\",image_tensor_add)\n",
        "print(\"- Minus:\",image_tensor_minus)\n",
        "print(\"- Multiply:\", image_tensor_mul)\n",
        "print(\"- Divide:\",image_tensor_divi)\n",
        "print(\"- Dot:\",image_tensor_dot)\n",
        "# Câu 6:\n",
        "image_tensor_sum = np.sum(image_tensor)\n",
        "image_tensor_mean = np.mean(image_tensor, axis=1)\n",
        "image_tensor_max = np.max(image_tensor, axis=1)\n",
        "# Câu 7:\n",
        "image_tensor_2=image_tensor[2]"
      ],
      "metadata": {
        "id": "aDy3tPzby5RN",
        "outputId": "ebd2e990-52ea-4b16-cb48-c2b41880cfcf",
        "colab": {
          "base_uri": "https://localhost:8080/"
        }
      },
      "execution_count": 82,
      "outputs": [
        {
          "output_type": "stream",
          "name": "stdout",
          "text": [
            "Câu 1: [0.1 0.2 0.3 0.4 0.5 0.6 0.7 0.8 0.9]\n",
            "Câu 2: [[0.1 0.4 0.7]\n",
            " [0.2 0.5 0.8]\n",
            " [0.3 0.6 0.9]]\n",
            "Câu 3: [[0.7 0.8 0.9]]\n",
            "Câu 4: [[0.1 0.2 0.3]\n",
            " [0.4 0.5 0.6]\n",
            " [0.7 0.8 0.9]\n",
            " [0.1 0.2 0.3]\n",
            " [0.4 0.5 0.6]\n",
            " [0.7 0.8 0.9]]\n",
            "Câu 5:\n",
            "- Add: [[0.2 0.4 0.6]\n",
            " [0.8 1.  1.2]\n",
            " [1.4 1.6 1.8]]\n",
            "- Minus: [[-2.9 -2.8 -2.7]\n",
            " [-2.6 -2.5 -2.4]\n",
            " [-2.3 -2.2 -2.1]]\n",
            "- Multiply: [[0.01 0.04 0.09]\n",
            " [0.16 0.25 0.36]\n",
            " [0.49 0.64 0.81]]\n",
            "- Divide: [[0.05 0.1  0.15]\n",
            " [0.2  0.25 0.3 ]\n",
            " [0.35 0.4  0.45]]\n",
            "- Dot: [[0.3 0.6 0.9]\n",
            " [1.2 1.5 1.8]\n",
            " [2.1 2.4 2.7]]\n"
          ]
        }
      ]
    },
    {
      "cell_type": "code",
      "source": [],
      "metadata": {
        "id": "Vt7Iahzx_UDh"
      },
      "execution_count": null,
      "outputs": []
    }
  ]
}