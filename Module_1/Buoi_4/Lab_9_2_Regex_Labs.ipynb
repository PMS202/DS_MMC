{
  "nbformat": 4,
  "nbformat_minor": 0,
  "metadata": {
    "colab": {
      "provenance": []
    },
    "kernelspec": {
      "name": "python3",
      "display_name": "Python 3"
    },
    "language_info": {
      "name": "python"
    }
  },
  "cells": [
    {
      "cell_type": "code",
      "execution_count": 1,
      "metadata": {
        "id": "t4OsxGef9X-D"
      },
      "outputs": [],
      "source": [
        "import re"
      ]
    },
    {
      "cell_type": "markdown",
      "source": [
        "**Bài 1:** Mở file Ex1.py và hoàn thành đoạn code để lấy các dòng được bắt đầu bằng ký tự \">\", kết quả sau khi chạy sẽ như sau:\n",
        "\n",
        "```['>Venues', '>Marketing', '>medalists', '>Controversies', '>Paralympics', '>snowboarding', '>Netherlands', '>Norway', '>References', '>edit', '>Norway', '>Germany', '>Canada', '>Netherlands', '>Japan', '>Italy', '>Belarus', '>China', '>Slovakia', '>Slovenia', '>Belgium', '>Spain', '>Kazakhstan', '>1964', '>1968', '>1972', '>1992', '>1996', '>2000']```"
      ],
      "metadata": {
        "id": "O3v41x8r9kM1"
      }
    },
    {
      "cell_type": "code",
      "source": [
        "str=\"\"\"\n",
        ">Venues\n",
        ">Marketing\n",
        ">medalists\n",
        ">Controversies\n",
        ">Paralympics\n",
        ">snowboarding\n",
        ">[1]\n",
        ">Netherlands\n",
        ">[2]\n",
        ">Norway\n",
        ">[10]\n",
        ">[11]\n",
        ">References\n",
        ">edit\n",
        ">[12]\n",
        ">Norway\n",
        ">Germany\n",
        ">Canada\n",
        ">Netherlands\n",
        ">Japan\n",
        ">Italy\n",
        ">Belarus\n",
        ">China\n",
        ">Slovakia\n",
        "<$#%#$%\n",
        "<#$#$$\n",
        "<**&&^^\n",
        ">Slovenia\n",
        ">Belgium\n",
        ">Spain\n",
        ">Kazakhstan\n",
        ">[15]\n",
        ">1964\n",
        ">1968\n",
        ">1972\n",
        ">1992\n",
        ">1996\n",
        ">2000\"\"\"\n",
        "\n",
        "#Type your answer here.\n",
        "\n",
        "data = re.findall('(>.*)', str)\n",
        "\n",
        "print(data)\n"
      ],
      "metadata": {
        "id": "Vjx0qQZc9gc4",
        "outputId": "0cd8228d-e8e6-43d1-e9c4-06e7744c61a4",
        "colab": {
          "base_uri": "https://localhost:8080/"
        }
      },
      "execution_count": 45,
      "outputs": [
        {
          "output_type": "stream",
          "name": "stdout",
          "text": [
            "['>Venues', '>Marketing', '>medalists', '>Controversies', '>Paralympics', '>snowboarding', '>[1]', '>Netherlands', '>[2]', '>Norway', '>[10]', '>[11]', '>References', '>edit', '>[12]', '>Norway', '>Germany', '>Canada', '>Netherlands', '>Japan', '>Italy', '>Belarus', '>China', '>Slovakia', '>Slovenia', '>Belgium', '>Spain', '>Kazakhstan', '>[15]', '>1964', '>1968', '>1972', '>1992', '>1996', '>2000']\n"
          ]
        }
      ]
    },
    {
      "cell_type": "markdown",
      "source": [
        "**Bài 2:** Mở file Ex2.py và hoàn thành đoạn code để lấy được các email có trong chuỗi đó. Kết quả sau khi chạy sẽ như sau:\n",
        "\n",
        "```['franky@google.com', 'sinatra123@yahoo.com']```"
      ],
      "metadata": {
        "id": "DfaRsco59lvM"
      }
    },
    {
      "cell_type": "code",
      "source": [
        "str='The advancements in biomarine studies franky@google.com with the investments necessary and Davos sinatra123@yahoo.com Then The New Yorker article on wind farms...'\n",
        "#Type your answer here.\n",
        "\n",
        "regex=r\"\\b[A-Za-z0-9._%+-]+@[A-Za-z0-9.-]+\\.[A-Z|a-z]{2,}\\b\"\n",
        "emails=re.findall(regex, str)\n",
        "\n",
        "\n",
        "print(emails)"
      ],
      "metadata": {
        "id": "QZqnaFzl9nKc",
        "outputId": "395c0175-7d8b-48da-bb7d-be5e48ac9e4d",
        "colab": {
          "base_uri": "https://localhost:8080/"
        }
      },
      "execution_count": 62,
      "outputs": [
        {
          "output_type": "stream",
          "name": "stdout",
          "text": [
            "['franky@google.com', 'sinatra123@yahoo.com']\n"
          ]
        }
      ]
    },
    {
      "cell_type": "markdown",
      "source": [
        "**Bài 3:** Mở file Ex3.py và hoàn thành đoạn code để lấy được các email có trong chuỗi đó (chỉ lấy phần ở trước ký tự '@' và ký tự '@'). Kết quả sau khi chạy sẽ như sau:\n",
        "\n",
        "```['franky@', 'sinatra123@']```"
      ],
      "metadata": {
        "id": "Ko0Xt2bQ9qSo"
      }
    },
    {
      "cell_type": "code",
      "source": [
        "str='The advancements in biomarine studies franky@google.com, with the investments necessary and Davos sinatra123@yahoo.com Then The New Yorker article on wind farms...'\n",
        "#Type your answer here.\n",
        "\n",
        "regex=r\"\\b[A-Za-z0-9._%+-]+@\\b\"\n",
        "emails=re.findall(regex, str)\n",
        "\n",
        "\n",
        "print(emails)"
      ],
      "metadata": {
        "id": "lHVLLZbD9uLd",
        "outputId": "9d39cca6-7f64-421b-c170-9d336bbdc3f9",
        "colab": {
          "base_uri": "https://localhost:8080/"
        }
      },
      "execution_count": 63,
      "outputs": [
        {
          "output_type": "stream",
          "name": "stdout",
          "text": [
            "['franky@', 'sinatra123@']\n"
          ]
        }
      ]
    },
    {
      "cell_type": "markdown",
      "source": [
        "**Bài 4:** Mở file Ex4.py và hoàn thành đoạn code tương tự như bài 3, nhưng lần này không lấy ký tự '@' nữa. Kết quả sau khi chạy sẽ như sau:\n",
        "\n",
        "```['franky', 'sinatra123']```"
      ],
      "metadata": {
        "id": "xx9_iNUR9xiO"
      }
    },
    {
      "cell_type": "code",
      "source": [
        "str='The advancements in biomarine studies franky@google.com, with the investments necessary and Davos sinatra123@yahoo.com Then The New Yorker article on wind farms...'\n",
        "#Type your answer here.\n",
        "\n",
        "regex=r\"\\b[A-Za-z0-9._%+-]+@\"\n",
        "emails=re.findall(regex, str)\n",
        "emails=[i.replace(\"@\",\"\") for i in emails]\n",
        "print(emails)"
      ],
      "metadata": {
        "id": "8WsgQ_e_9zmA",
        "outputId": "59655624-c60e-47a7-b214-d030d57b47fb",
        "colab": {
          "base_uri": "https://localhost:8080/"
        }
      },
      "execution_count": 75,
      "outputs": [
        {
          "output_type": "stream",
          "name": "stdout",
          "text": [
            "['franky', 'sinatra123']\n"
          ]
        }
      ]
    },
    {
      "cell_type": "markdown",
      "source": [
        "**Bài 5:** Mở file Ex5.py và hoàn thành đoạn code để trích xuất những từ có đúng 8 ký tự từ chuỗi. Kết quả sau khi chạy sẽ như sau:\n",
        "\n",
        "```['empourpr', 'palmiers']```"
      ],
      "metadata": {
        "id": "xBfFDQj290NH"
      }
    },
    {
      "cell_type": "code",
      "source": [
        "str='''Au pays parfume que le soleil caresse,\n",
        "J'ai connu, sous un dais d'arbres tout empourpr es\n",
        "Et de palmiers d'ou pleut sur les yeux la paresse,\n",
        "Une dame creole aux charmes ignores.'''\n",
        "\n",
        "#Type your answer here.\n",
        "\n",
        "regex=r\"\\b[a-zA-Z]{8}\\b\"\n",
        "emails=re.findall(regex, str)\n",
        "\n",
        "\n",
        "print(emails)\n"
      ],
      "metadata": {
        "id": "rNmIkjkD91iw",
        "outputId": "384805f3-acab-4cdf-c431-6beaf87b9669",
        "colab": {
          "base_uri": "https://localhost:8080/"
        }
      },
      "execution_count": 77,
      "outputs": [
        {
          "output_type": "stream",
          "name": "stdout",
          "text": [
            "['empourpr', 'palmiers']\n"
          ]
        }
      ]
    },
    {
      "cell_type": "markdown",
      "source": [
        "**Bài 6:** Mở file Ex6.py và hoàn thành đoạn code để trích xuất những số bắt đầu với '212'. Kết quả sau khi chạy sẽ như sau:\n",
        "\n",
        "```['21299']```"
      ],
      "metadata": {
        "id": "GiFkhhzC94QV"
      }
    },
    {
      "cell_type": "code",
      "source": [
        "str='''Ancient Script 21299: The Takenouchi documents are the ancient historical records that have been secretly preserved and passed down from generation to generation by the Takenouchi family, the head of family being the chief priest of the Koso Kotai Jingu shrine. 212-111-5932 '''\n",
        "\n",
        "#Type your answer here.\n",
        "\n",
        "regex=r\"\\b212\\d+\\b\"\n",
        "data=re.findall(regex, str)\n",
        "\n",
        "\n",
        "print(data)"
      ],
      "metadata": {
        "id": "oEUHThqV95as",
        "outputId": "a1c62b3f-59a1-4a7b-cb3b-9e74756b0690",
        "colab": {
          "base_uri": "https://localhost:8080/"
        }
      },
      "execution_count": 96,
      "outputs": [
        {
          "output_type": "stream",
          "name": "stdout",
          "text": [
            "['21299']\n"
          ]
        }
      ]
    },
    {
      "cell_type": "markdown",
      "source": [
        "**Bài 7: **Mở file Ex7.py và hoàn thành đoạn code theo yêu cầu sau. Bạn được cung cấp giá cổ phiếu cho các mã tài chính liên quan. (Biểu tượng đại diện cho các công ty trên thị trường chứng khoán). Tìm cách trích xuất các mã được đề cập trong báo cáo. tức là: TSLA, NFLX ... Kết quả sau khi chạy sẽ như sau:\n",
        "\n",
        "```['TSLA', 'ORCL', 'GE', 'MSFT', 'BIDU']```"
      ],
      "metadata": {
        "id": "Xfenx7DG97G-"
      }
    },
    {
      "cell_type": "code",
      "source": [
        "str=\"\"\"Some of the prices were as following TSLA:749.50, ORCL: 50.50, GE: 10.90, MSFT: 170.50, BIDU: 121.40. As the macroeconomic developments continue we will update the prices. \"\"\"\n",
        "\n",
        "#Type your answer here.\n",
        "\n",
        "regex=r\"\\b[A-Z]+\\b\"\n",
        "data=re.findall(regex, str)\n",
        "\n",
        "\n",
        "print(data)"
      ],
      "metadata": {
        "id": "LAcjISes98bK",
        "outputId": "2d1cf2ee-04ee-419c-a162-a7a0333c160d",
        "colab": {
          "base_uri": "https://localhost:8080/"
        }
      },
      "execution_count": 98,
      "outputs": [
        {
          "output_type": "stream",
          "name": "stdout",
          "text": [
            "['TSLA', 'ORCL', 'GE', 'MSFT', 'BIDU']\n"
          ]
        }
      ]
    },
    {
      "cell_type": "markdown",
      "source": [
        "**Bài 8:** Mở file Ex8.py và hoàn thành đoạn code để trích xuất các thẻ html có nhiều hơn 4 chữ cái. Các thẻ html mở có thể được tìm thấy bên trong các ký tự <> và các thẻ html đóng có thể được tìm thấy ở cùng một định dạng sau ký tự </>, ví dụ <param> </param>. Kết quả sau khi chạy sẽ như sau:\n",
        "\n",
        "```['video', 'center', 'button']```"
      ],
      "metadata": {
        "id": "2TpFXGtY-BNM"
      }
    },
    {
      "cell_type": "code",
      "source": [
        "str=\"\"\"<div class=\"tut-list tut-list-new tut-row \">\n",
        "<div class=\"tut-list-primary\"> <div class=\"tut-vote\">\n",
        "<video>intro</video>\n",
        "<span class=\"count\">50</span> <span class=\"tut-upvotes-text hidden\">Upvotes</span> </a> </div>\n",
        "<center>k=\"11\" rel=\"nofollow\"></center>\n",
        "<span class=\"tutorial-title-txt\">Automate the Boring Stuff with Python</span>\n",
        "<span class=\"tut-title-link\">  <span class=\"js-tutorial\" data-id=\"3529\"\n",
        "title=\"Automate the Boring Stuff with Python\" target=\"_blank\">(udemy.com)</span>\n",
        "</span>  </a></div> <div class=\"action-footer\">\n",
        "<form class=\"save-tutorial-form\" method=\"post\" <button></button> </form>\"\"\"\n",
        "\n",
        "#Type your answer here.\n",
        "\n",
        "regex=r'<([a-zA-Z]{5,})>'\n",
        "data=re.findall(regex, str)\n",
        "\n",
        "\n",
        "print(data)\n"
      ],
      "metadata": {
        "id": "osCy5Ezy-CWh",
        "outputId": "77a69bdf-8470-4ab9-e15b-284a87a827ff",
        "colab": {
          "base_uri": "https://localhost:8080/"
        }
      },
      "execution_count": 103,
      "outputs": [
        {
          "output_type": "stream",
          "name": "stdout",
          "text": [
            "['video', 'center', 'button']\n"
          ]
        }
      ]
    }
  ]
}