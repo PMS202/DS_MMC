{
  "nbformat": 4,
  "nbformat_minor": 0,
  "metadata": {
    "colab": {
      "provenance": []
    },
    "kernelspec": {
      "name": "python3",
      "display_name": "Python 3"
    },
    "language_info": {
      "name": "python"
    }
  },
  "cells": [
    {
      "cell_type": "markdown",
      "source": [
        "#Exercise 1:\n"
      ],
      "metadata": {
        "id": "uRa8NWMeOtlz"
      }
    },
    {
      "cell_type": "markdown",
      "source": [
        "## Question 1:\n",
        "Viết chương trình nhập vào một số thực. Đơn vị tính cho số này là centimet (cm). Hãy in ra số tương đương tính bằng foot (số thực, có 2 số lẻ thập phân) và inch (số thực, có 2 số lẻ thập phân). Với 1 inch = 2.54 cm và 1 foot = 12 inches.\n",
        "\n",
        "* Answer:"
      ],
      "metadata": {
        "id": "ZcIETKwAOy1e"
      }
    },
    {
      "cell_type": "code",
      "source": [
        "cm = float(input(\"Nhap số cm:\"))\n",
        "print(\"Foot:\",round(cm/2.54/12,2))\n",
        "print(\"Inch:\",round(cm/2.54))"
      ],
      "metadata": {
        "id": "Kh6XvCOVLO5N"
      },
      "execution_count": null,
      "outputs": []
    },
    {
      "cell_type": "markdown",
      "source": [
        "## Question 2:\n",
        "Viết chương trình nhập vào số giây từ 0 tới 68399, đổi số giây này thành dạng [giờ:phút:giây], mỗi thành phần là một số nguyên có 2 chữ số.\n",
        "Ví dụ: 02:11:05\n",
        "\n",
        "* Answer:"
      ],
      "metadata": {
        "id": "kyPDPr_lN9hn"
      }
    },
    {
      "cell_type": "code",
      "source": [
        "sec=-1\n",
        "while ( 0 > sec or sec > 68399 ):\n",
        "    sec = int(input(\"Nhap số giây ( 0 tới 68399):\"))\n",
        "hour=sec//3600\n",
        "if hour<10:\n",
        "    hour_str=\"0\"+str(hour)\n",
        "min=(sec-(hour*3600))//60\n",
        "if min<10:\n",
        "    min_str=\"0\"+str(min)\n",
        "sec1=sec-hour*3600-min*60\n",
        "if sec1<10:\n",
        "    sec1=\"0\"+str(sec1)\n",
        "print(\"Số giờ là:\",hour_str,\":\",min_str,\":\",sec1)"
      ],
      "metadata": {
        "id": "jxpmmAthO6co",
        "colab": {
          "base_uri": "https://localhost:8080/"
        },
        "outputId": "2af46e0f-74b5-4217-daad-30ee557513e3"
      },
      "execution_count": null,
      "outputs": [
        {
          "output_type": "stream",
          "name": "stdout",
          "text": [
            "Nhap số giây ( 0 tới 68399):10\n",
            "Số giờ là: 00 : 00 : 10\n"
          ]
        }
      ]
    },
    {
      "cell_type": "markdown",
      "source": [
        "## Question 3:\n",
        "Viết chương trình nhập vào 4 số nguyên.\n",
        "\n",
        "Hiển thị ra số lớn nhất và nhỏ nhất\n",
        "\n",
        "Ví dụ: nhập vào 4 số 1,2,3,4 thì kết quả là:\n",
        "\n",
        "Số lớn nhất là: 4\n",
        "\n",
        "Số nhỏ nhất là: 1\n",
        "\n",
        "* Answer:"
      ],
      "metadata": {
        "id": "Xouzr8AITKKd"
      }
    },
    {
      "cell_type": "code",
      "source": [
        "number = input(\"Nhập số:\")\n",
        "number=[int(i) for i in number.split(\",\")]\n",
        "# number=list(set(number))\n",
        "# print(number)\n",
        "print(\"Số lớn nhất là: \",max(number))\n",
        "print(\"Số nhỏ nhất là: \",min(number))"
      ],
      "metadata": {
        "id": "a_PeE2diUBJ6"
      },
      "execution_count": null,
      "outputs": []
    },
    {
      "cell_type": "markdown",
      "source": [
        "## Question 4:\n",
        "Nhập vào hai số tự nhiên a và b. Tính hiệu của hai số đó.\n",
        "\n",
        "Nếu hiệu số lớn hơn 0 thì in ra dòng chữ [Số thứ nhất lớn hơn số thứ hai].\n",
        "\n",
        "Nếu hiệu số nhỏ hơn 0 thì in ra dòng chữ [Số thứ nhất nhỏ hơn số thứ hai].\n",
        "\n",
        "\n",
        "* Answer:"
      ],
      "metadata": {
        "id": "Qs2_y9V5aRsx"
      }
    },
    {
      "cell_type": "code",
      "source": [
        "number=1\n",
        "lst=[]\n",
        "while ( number!=2 ):\n",
        "    in_number = input(\"Nhap số:\")\n",
        "    lst=[int(i) for i in in_number.split(\",\")]\n",
        "    number=len(lst)\n",
        "if lst[0]-lst[1]>0:\n",
        "  print(\"Số thứ nhất lớn hơn số thứ hai\")\n",
        "else:\n",
        "  print(\"Số thứ nhất nhỏ hơn số thứ hai\")"
      ],
      "metadata": {
        "colab": {
          "base_uri": "https://localhost:8080/"
        },
        "id": "vXMZ0JmgaYne",
        "outputId": "04d14106-a792-4b2c-faa3-910a128605a0"
      },
      "execution_count": null,
      "outputs": [
        {
          "output_type": "stream",
          "name": "stdout",
          "text": [
            "Nhap số:10\n",
            "Nhap số:9\n",
            "Nhap số:8\n",
            "Nhap số:10,8\n",
            "Số thứ nhất lớn hơn số thứ hai\n"
          ]
        }
      ]
    },
    {
      "cell_type": "markdown",
      "source": [
        "## Question 5:\n",
        "Nhập vào 2 số tự nhiên a và b. Kiểm tra xem a có chia hết cho b không\n",
        "\n",
        "* Answer:"
      ],
      "metadata": {
        "id": "-Fk_EYERcfNw"
      }
    },
    {
      "cell_type": "code",
      "source": [
        "number=1\n",
        "lst=[]\n",
        "while ( number!=2 ):\n",
        "    in_number = input(\"Nhap số:\")\n",
        "    lst=[int(i) for i in in_number.split(\",\")]\n",
        "    number=len(lst)\n",
        "if lst[0]%lst[1]==0:\n",
        "  print(\"Số thứ nhất chia hết cho số thứ hai\")\n",
        "else:\n",
        "  print(\"Số thứ nhất không chia hết cho số thứ hai\")"
      ],
      "metadata": {
        "colab": {
          "base_uri": "https://localhost:8080/"
        },
        "id": "9Jj2Qmqvcr7G",
        "outputId": "12547dcb-6d72-4539-e67d-15264437909e"
      },
      "execution_count": null,
      "outputs": [
        {
          "output_type": "stream",
          "name": "stdout",
          "text": [
            "Nhap số:10\n",
            "Nhap số:10,5\n",
            "Số thứ nhất chia hết cho số thứ hai\n"
          ]
        }
      ]
    },
    {
      "cell_type": "markdown",
      "source": [
        "## Question 6:\n",
        "\n",
        "Xếp loại sinh viên theo các quy luật dưới đây:\n",
        "\n",
        "Nếu điểm >= 9.0 - Loại xuất sắc\n",
        "\n",
        "Nếu 8.0<= điểm < 9.0 - Loại giỏi\n",
        "\n",
        "Nếu 7.0<= điểm < 8.0 - Loại khá\n",
        "\n",
        "Nếu 6.0 <= điểm < 7.0 - Loại trung bình khá\n",
        "\n",
        "Nếu 5.0 <= điểm < 6.0 - Loại trung bình\n",
        "\n",
        "Nếu điểm < 5.0 - Loại kém\n",
        "\n",
        "Với điểm = ( (điểm toán)*2 + điểm lý + điểm hóa )/4\n",
        "\n",
        "Viết Chương trình:\n",
        "\n",
        "a. Nhập vào điểm 3 môn học\n",
        "\n",
        "b. Tính điểm trung bình\n",
        "\n",
        "c. Xác định học lực của học sinh dựa trên điểm trung bình\n",
        "\n",
        "d. Hiển thị học lực của học sinh\n",
        "\n",
        "\n",
        "\n",
        "* Answer:"
      ],
      "metadata": {
        "id": "WPu4SMrVdP__"
      }
    },
    {
      "cell_type": "code",
      "source": [
        "while True:\n",
        "    toan = input(\"Nhập điểm Toán: \")\n",
        "    li = input(\"Nhập điểm Lí: \")\n",
        "    hoa = input(\"Nhập điểm Hóa: \")\n",
        "    try:\n",
        "        toan=float(toan)\n",
        "        li=float(li)\n",
        "        hoa=float(hoa)\n",
        "        if (toan < 0 and toan >10) and li < 0 and li >10 and hoa < 0 and hoa >10:\n",
        "            print(\"Điểm nhập vào không hợp lệ\")\n",
        "        else:\n",
        "            break\n",
        "    except ValueError:\n",
        "        print(\"Điểm nhập vào không hợp lệ\")\n",
        "\n",
        "def trungbinh(toan,li,hoa):\n",
        "    return (toan*2 + li + hoa )/4\n",
        "\n",
        "def hocluc(dtb):\n",
        "    if dtb>=9:\n",
        "        print(\"Xuất xắc\")\n",
        "    elif dtb >= 8:\n",
        "        print(\"Giỏi\")\n",
        "    elif dtb >= 7:\n",
        "        print(\"Khá\")\n",
        "    elif dtb >= 6:\n",
        "        print(\"Trung Bình Khá\")\n",
        "    elif dtb >= 5:\n",
        "        print(\"Trung Bình\")\n",
        "    elif dtb < 5:\n",
        "        print(\"Kém\")\n",
        "dtb=trungbinh(toan,li,hoa)\n",
        "hocluc(dtb)"
      ],
      "metadata": {
        "id": "3KC0tnZ5OHWb"
      },
      "execution_count": null,
      "outputs": []
    },
    {
      "cell_type": "markdown",
      "source": [
        "#Exercise 2:"
      ],
      "metadata": {
        "id": "rg00gP7ZWD5F"
      }
    },
    {
      "cell_type": "markdown",
      "source": [
        "# Question 1:\n",
        "Hãy viết chương trình tính tổng các chữ số của một số nguyên bất kỳ.\n",
        "\n",
        "Ví dụ: Số 8545604 có tổng các chữ số là: 8+5+4+5+6+0+4= 32\n",
        "\n",
        "* Answer:\n"
      ],
      "metadata": {
        "id": "ltHRkHWHWFnO"
      }
    },
    {
      "cell_type": "code",
      "source": [
        "input_str = input(\"Nhap so:\")\n",
        "size=len(input_str)-1\n",
        "number=int(input_str)\n",
        "def tinhtong(number:int,size,total=0):\n",
        "  if size==0:\n",
        "    return total+number\n",
        "  number_a=number//(10 ** size)\n",
        "  number_af=number-number_a*(10 ** size)\n",
        "  size=size-1\n",
        "  total=total+number_a\n",
        "  return tinhtong(number_af,size=size,total=total)\n",
        "tong=tinhtong(number=number,size=size)\n",
        "print(tong)"
      ],
      "metadata": {
        "id": "iXe5aDSwegHk",
        "colab": {
          "base_uri": "https://localhost:8080/"
        },
        "outputId": "0b58db8a-a37b-4be7-d601-c0a1331d67c3"
      },
      "execution_count": null,
      "outputs": [
        {
          "output_type": "stream",
          "name": "stdout",
          "text": [
            "Nhap so:10\n",
            "1\n"
          ]
        }
      ]
    },
    {
      "cell_type": "markdown",
      "source": [
        "# Question 2:\n",
        "\n",
        "Viết chương trình phân tích một số nguyên thành các thừa số nguyên tố\n",
        "\n",
        "Ví dụ: Số 28 được phân tích thành 2 x 2 x 7\n",
        "\n",
        "\n",
        "* Answer:\n"
      ],
      "metadata": {
        "id": "iNFZFE4MhaPo"
      }
    },
    {
      "cell_type": "code",
      "source": [
        "input_str = int(input(\"Nhập số:\"))\n",
        "def thua_so_nguyen_to(n):\n",
        "    i = 2\n",
        "    lst=[]\n",
        "    while i <= n:\n",
        "        if n % i == 0:\n",
        "            lst.append(i)\n",
        "            n = n // i\n",
        "        else:\n",
        "            i += 1\n",
        "    return lst\n",
        "lst=thua_so_nguyen_to(input_str)\n",
        "print(\"Thừa số nguyên tố là: \",end=\"\")\n",
        "for i in range(len(lst)):\n",
        "    if i == len(lst) - 1:\n",
        "        print(lst[i],end=\"\")\n",
        "    else:\n",
        "        print(lst[i],\"x \",end=\"\")"
      ],
      "metadata": {
        "id": "3le1Xd_6hgZ4",
        "colab": {
          "base_uri": "https://localhost:8080/"
        },
        "outputId": "71be859b-5ee1-4670-871c-04e8477eb661"
      },
      "execution_count": null,
      "outputs": [
        {
          "output_type": "stream",
          "name": "stdout",
          "text": [
            "Nhập số:10\n",
            "Thừa số nguyên tố là: 2 x 5"
          ]
        }
      ]
    },
    {
      "cell_type": "markdown",
      "source": [
        "# Question 3:\n",
        "\n",
        "Viết chương trình liệt kê tất cả các số nguyên tố nhỏ hơn n cho trước.\n",
        "\n",
        "* Answer:"
      ],
      "metadata": {
        "id": "aHWfRnp2nWAg"
      }
    },
    {
      "cell_type": "code",
      "source": [
        "i=2\n",
        "n=40\n",
        "songuyento=[]\n",
        "while i<=n:\n",
        "  bol=True\n",
        "  for j in range(2,i):\n",
        "    if i % j ==0:\n",
        "      bol=False\n",
        "      break\n",
        "  if bol==True:\n",
        "    songuyento.append(i)\n",
        "  i+=1\n",
        "\n",
        "print(songuyento)\n"
      ],
      "metadata": {
        "id": "euaAjWF8ndaq"
      },
      "execution_count": null,
      "outputs": []
    },
    {
      "cell_type": "markdown",
      "source": [
        "# Question 4:\n",
        "Viết chương trình liệt kê n số nguyên tố đầu tiên.\n",
        "\n",
        "* Answer:"
      ],
      "metadata": {
        "id": "R9bybVFqrcGD"
      }
    },
    {
      "cell_type": "code",
      "source": [
        "n=99\n",
        "i=2\n",
        "songuyento=[]\n",
        "while len(songuyento)+1<=n:\n",
        "  bol=True\n",
        "  for j in range(2,i):\n",
        "    if i % j ==0:\n",
        "      bol=False\n",
        "      break\n",
        "  if bol==True:\n",
        "    songuyento.append(i)\n",
        "  i+=1\n",
        "\n",
        "print(songuyento)\n"
      ],
      "metadata": {
        "id": "coBU4qXcrjvL"
      },
      "execution_count": null,
      "outputs": []
    },
    {
      "cell_type": "markdown",
      "source": [
        "# Question 5:\n",
        "Viết chương trình tìm ước số chung lớn nhất, bội số chung nhỏ nhất của hai số tự nhiên a và b.\n",
        "\n",
        "\n",
        "* Answer:"
      ],
      "metadata": {
        "id": "hDPop9RVfWXS"
      }
    },
    {
      "cell_type": "code",
      "source": [
        "def ucln(a, b):\n",
        "  SNT_a=set(thua_so_nguyen_to(a))\n",
        "  SNT_b=set(thua_so_nguyen_to(b))\n",
        "  return  max(list(SNT_a & SNT_b))\n",
        "\n",
        "def bcnn(a, b):\n",
        "    return (a * b) // ucln(a, b)\n",
        "\n",
        "a = int(input(\"Nhập số a: \"))\n",
        "b = int(input(\"Nhập số b: \"))\n",
        "\n",
        "UCLN=ucln(a,b)\n",
        "BCNN=bcnn(a,b)\n",
        "print(UCLN)\n",
        "print(BCNN)"
      ],
      "metadata": {
        "id": "C1HnJ8rpfily"
      },
      "execution_count": null,
      "outputs": []
    },
    {
      "cell_type": "markdown",
      "source": [
        "# Question 6:\n",
        "Dãy số Fibonacci được định nghĩa như sau:\n",
        "\n",
        "F0 =1, F1 = 1; Fn = Fn-1 + Fn-2 với n>=2.\n",
        "\n",
        "Hãy viết chương trình tìm số Fibonacci thứ n.\n",
        "\n",
        "\n",
        "* Answer:"
      ],
      "metadata": {
        "id": "1Vz_DpcjttaX"
      }
    },
    {
      "cell_type": "code",
      "source": [
        "n = int(input(\"Nhập số Fibonacci thứ n=\"))\n",
        "lst=[0]\n",
        "def tim_fibonacci(n):\n",
        "    a, b = 0, 1\n",
        "    for i in range(n):\n",
        "        a, b = b, a + b\n",
        "        lst.append(a)\n",
        "    return a,lst\n",
        "a,lst=tim_fibonacci(10)\n",
        "print(a)\n",
        "print(lst)"
      ],
      "metadata": {
        "colab": {
          "base_uri": "https://localhost:8080/"
        },
        "id": "J_i48le1t1lS",
        "outputId": "ce3ca3de-b9f3-4e87-a26f-ae30ec278fc0"
      },
      "execution_count": null,
      "outputs": [
        {
          "output_type": "stream",
          "name": "stdout",
          "text": [
            "Nhập số Fibonacci thứ n=10\n",
            "55\n",
            "[0, 1, 1, 2, 3, 5, 8, 13, 21, 34, 55]\n"
          ]
        }
      ]
    },
    {
      "cell_type": "markdown",
      "source": [
        "# Question 7:\n",
        "\n",
        "Nhập một số tự nhiên n.\n",
        "Hãy liệt kê các số Fibonaci nhỏ hơn n là số nguyên tố\n",
        "\n",
        "\n",
        "\n",
        "* Answer:"
      ],
      "metadata": {
        "id": "iIzSjrcbwWyk"
      }
    },
    {
      "cell_type": "code",
      "source": [
        "n = int(input(\"Nhập số Fibonacci thứ n=\"))\n",
        "a,lst=tim_fibonacci(n)\n",
        "lst=list(set(lst))\n",
        "print(lst)\n",
        "songuyento=[]\n",
        "i=0\n",
        "while i<len(lst):\n",
        "  bol=True\n",
        "  for j in range(2,lst[i]):\n",
        "    if lst[i] % j ==0:\n",
        "      bol=False\n",
        "      break\n",
        "  if bol==True:\n",
        "    songuyento.append(lst[i])\n",
        "  i+=1\n",
        "print(songuyento)"
      ],
      "metadata": {
        "colab": {
          "base_uri": "https://localhost:8080/"
        },
        "id": "7arLYlgt0Kbg",
        "outputId": "17333a73-464b-4810-aff1-982a2337f7b4"
      },
      "execution_count": null,
      "outputs": [
        {
          "output_type": "stream",
          "name": "stdout",
          "text": [
            "Nhập số Fibonacci thứ n=10\n",
            "[1, 2, 3, 34, 5, 8, 13, 21, 55]\n",
            "[1, 2, 3, 5, 13]\n"
          ]
        }
      ]
    },
    {
      "cell_type": "markdown",
      "source": [
        "# Question 8:\n",
        "\n",
        "Viết chương trình nhập một số nguyên dương n và thực hiện các chức năng sau:\n",
        "\n",
        "a) Tính tổng các chữ số của n.\n",
        "\n",
        "b) Phân tích n thành các thừa số nguyên tố.\n",
        "\n",
        "\n",
        "\n",
        "\n",
        "* Answer:"
      ],
      "metadata": {
        "id": "XD23MT3W440A"
      }
    },
    {
      "cell_type": "code",
      "source": [
        "n = input(\"Nhập số thứ n:\")\n",
        "number=int(n)\n",
        "# Câu a)\n",
        "tong=tinhtong(number,size=len(n),total=0)\n",
        "# câu b\n",
        "lst=thua_so_nguyen_to(number)\n",
        "print(tong)\n",
        "print(lst)"
      ],
      "metadata": {
        "colab": {
          "base_uri": "https://localhost:8080/"
        },
        "id": "920qLwSi5BrV",
        "outputId": "cd3e48b4-ee5a-4dbb-88aa-f3adbfca90ac"
      },
      "execution_count": null,
      "outputs": [
        {
          "output_type": "stream",
          "name": "stdout",
          "text": [
            "Nhập số thứ n:25\n",
            "7\n",
            "[5, 5]\n"
          ]
        }
      ]
    },
    {
      "cell_type": "markdown",
      "source": [
        "# Question 9:\n",
        "Viết chương trình nhập một số nguyên dương n và thực hiện các chức năng sau:\n",
        "\n",
        "a) Liệt kê các ước số của n. Có bao nhiêu ước số.\n",
        "\n",
        "b) Liệt kê các ước số là nguyên tố của n.\n",
        "\n",
        "\n",
        "* Answer:"
      ],
      "metadata": {
        "id": "xnkMzyvcld4B"
      }
    },
    {
      "cell_type": "code",
      "source": [
        "n = int(input(\"Nhập số nguyên dương n:\"))\n",
        "# Câu a:\n",
        "uocso=[i for i in range(1,n+1) if n % i == 0]\n",
        "print(f\"Có {len(uocso)} ước số cho số nguyên {n}: {uocso}\")\n",
        "# Câu b:\n",
        "i=0\n",
        "songuyento=[]\n",
        "while i<len(uocso):\n",
        "  bol=True\n",
        "  for j in range(2,uocso[i]):\n",
        "    if uocso[i] % j ==0:\n",
        "      bol=False\n",
        "      break\n",
        "  if bol==True:\n",
        "    songuyento.append(uocso[i])\n",
        "  i+=1\n",
        "print(f\"Số nguyên tố là số nguyên tố: {songuyento}\")"
      ],
      "metadata": {
        "colab": {
          "base_uri": "https://localhost:8080/"
        },
        "id": "F6_TOHP6rDhG",
        "outputId": "716c4f9b-7984-4e54-df74-6c50e586c6b4"
      },
      "execution_count": 13,
      "outputs": [
        {
          "output_type": "stream",
          "name": "stdout",
          "text": [
            "Nhập số nguyên dương n:55\n",
            "Có 4 ước số cho số nguyên 55: [1, 5, 11, 55]\n",
            "Số nguyên tố là số nguyên tố: [1, 5, 11]\n"
          ]
        }
      ]
    },
    {
      "cell_type": "markdown",
      "source": [
        "# Question 10:\n",
        "\n",
        "Viết chương trình thực hiện chuẩn hoá một xâu ký tự nhập từ bàn phím (loại bỏ các dấu cách thừa, chuyển ký tự đầu mỗi từ thành chữ hoa, các ký tự khác thành chữ thường)\n",
        "\n",
        "\n",
        "\n",
        "\n",
        "* Answer:"
      ],
      "metadata": {
        "id": "_Nfc7v-VudjV"
      }
    },
    {
      "cell_type": "code",
      "source": [
        "n = input(\"Nhập vào chuỗi INPUT:\")\n",
        "n=n.split()\n",
        "result=\"\"\n",
        "for i in range(len(n)):\n",
        "  str1=n[i][0].upper()\n",
        "  str2=n[i][1:].lower()\n",
        "  result+=\" \"+str1+str2\n",
        "print(result)"
      ],
      "metadata": {
        "colab": {
          "base_uri": "https://localhost:8080/"
        },
        "id": "SWc4H7Gquz_X",
        "outputId": "7dbd4fea-16e5-4c28-f4c5-e56a81131207"
      },
      "execution_count": 31,
      "outputs": [
        {
          "output_type": "stream",
          "name": "stdout",
          "text": [
            "Nhập vào chuỗi INPUT:làm     bài tập     thôi nào\n",
            " Làm Bài Tập Thôi Nào\n"
          ]
        }
      ]
    },
    {
      "cell_type": "markdown",
      "source": [
        "# Question 11:\n",
        "Viết chương trình thực hiện nhập một xâu ký tự\n",
        "\n",
        "a) Tìm từ dài nhất trong xâu đó.\n",
        "\n",
        "b) Từ đó xuất hiện ở vị trí nào?\n",
        "\n",
        "(Chú ý. nếu có nhiều từ có độ dài giống nhau thì chọn từ đầu tiên tìm thấy).\n",
        "\n",
        "\n",
        "* Answer:"
      ],
      "metadata": {
        "id": "j4GxxV8YzIds"
      }
    },
    {
      "cell_type": "code",
      "source": [
        "n = input(\"Nhập vào chuỗi INPUT:\")\n",
        "# Câu a:\n",
        "lst=n.split()\n",
        "max=len(lst[0])\n",
        "max_str=[]\n",
        "for i in lst:\n",
        "  if len(i)>max:\n",
        "    max_str=[]\n",
        "    max_str.append(i)\n",
        "    max=len(i)\n",
        "  elif len(i)==max:\n",
        "    max_str.append(i)\n",
        "print(f\"Từ dài nhất trong xâu là {max_str}\")\n",
        "# Câu b:\n",
        "print(n.find(max_str[0]))\n",
        "print(n[14:14+len(max_str[0])])"
      ],
      "metadata": {
        "colab": {
          "base_uri": "https://localhost:8080/"
        },
        "id": "bOsHYEt7zWh8",
        "outputId": "d0a7733c-8009-4ec8-ee5c-bf8ad1a7ba46"
      },
      "execution_count": 50,
      "outputs": [
        {
          "output_type": "stream",
          "name": "stdout",
          "text": [
            "Nhập vào chuỗi INPUT:Chú ý. nếu có nhiều từ có độ dài giống nhau thì chọn từ đầu tiên tìm thấy\n",
            "Từ dài nhất trong xâu là ['nhiều', 'giống']\n",
            "14\n",
            "nhiều\n"
          ]
        }
      ]
    },
    {
      "cell_type": "markdown",
      "source": [
        "#Excercise 3:"
      ],
      "metadata": {
        "id": "_iTi3Q505D4B"
      }
    },
    {
      "cell_type": "markdown",
      "source": [
        "## Question 1:\n",
        "\n",
        "Sử dụng for, while, do while để cho ra kết quả a, b, c, d như ảnh\n",
        "![image.png](data:image/png;base64,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)\n",
        "* Answer:"
      ],
      "metadata": {
        "id": "XxkUJa4X5GGb"
      }
    },
    {
      "cell_type": "code",
      "source": [
        "# Hình a\n",
        "for i in range(1,9):\n",
        "  print(\"*\"*i)"
      ],
      "metadata": {
        "colab": {
          "base_uri": "https://localhost:8080/"
        },
        "id": "ajibeuN-5VFf",
        "outputId": "a6f71fa3-a7f7-410d-97ea-d5eaf5c86861"
      },
      "execution_count": 51,
      "outputs": [
        {
          "output_type": "stream",
          "name": "stdout",
          "text": [
            "*\n",
            "**\n",
            "***\n",
            "****\n",
            "*****\n",
            "******\n",
            "*******\n"
          ]
        }
      ]
    },
    {
      "cell_type": "code",
      "source": [
        "# Hình b\n",
        "for i in range(8,0,-1):\n",
        "  print(\"*\"*i)"
      ],
      "metadata": {
        "colab": {
          "base_uri": "https://localhost:8080/"
        },
        "id": "w5KG1ma-52W-",
        "outputId": "853c3769-a777-4ce3-c339-8ac76340b4f7"
      },
      "execution_count": 55,
      "outputs": [
        {
          "output_type": "stream",
          "name": "stdout",
          "text": [
            "********\n",
            "*******\n",
            "******\n",
            "*****\n",
            "****\n",
            "***\n",
            "**\n",
            "*\n"
          ]
        }
      ]
    },
    {
      "cell_type": "code",
      "source": [
        "# Hình c\n",
        "for i in range(8,0,-1):\n",
        "  print(\" \"*(8-i),end=\"\")\n",
        "  print(\"*\"*i)\n"
      ],
      "metadata": {
        "colab": {
          "base_uri": "https://localhost:8080/"
        },
        "id": "KLTG8FYz6Iay",
        "outputId": "2fb87461-355f-4346-b494-37798faee3c2"
      },
      "execution_count": 61,
      "outputs": [
        {
          "output_type": "stream",
          "name": "stdout",
          "text": [
            "********\n",
            " *******\n",
            "  ******\n",
            "   *****\n",
            "    ****\n",
            "     ***\n",
            "      **\n",
            "       *\n"
          ]
        }
      ]
    },
    {
      "cell_type": "markdown",
      "source": [
        "# Question 2:\n",
        "\n",
        "Viết chương trình tính n! với n là số tự nhiên không âm nhập vào từ bàn phím. Trong đó: 0! = 1 n! = 1.2.3...n\n",
        "\n",
        "\n",
        "* Answer:"
      ],
      "metadata": {
        "id": "l9fHlfvM71N2"
      }
    },
    {
      "cell_type": "code",
      "source": [
        "giaithua=1\n",
        "while True:\n",
        "  n = input(\"Nhập số tự nhiên không âm:\")\n",
        "  try:\n",
        "    n=int(n)\n",
        "    if n<0:\n",
        "      print(\"Số nhập vào phải là số dương\")\n",
        "    elif n==0:\n",
        "      print(\"0!=1\")\n",
        "      break\n",
        "    else:\n",
        "      for i in range(1,n+1):\n",
        "        giaithua=giaithua*i\n",
        "      print(giaithua)\n",
        "      break\n",
        "  except ValueError:\n",
        "    print(\"Bạn nhập vào không phải là số tự nhiên\")\n"
      ],
      "metadata": {
        "colab": {
          "base_uri": "https://localhost:8080/"
        },
        "id": "bmsuGNOL7_82",
        "outputId": "5d4b5a44-ac5f-400e-a673-ced23c7e6682"
      },
      "execution_count": 77,
      "outputs": [
        {
          "output_type": "stream",
          "name": "stdout",
          "text": [
            "Nhập số tự nhiên không âm:-1\n",
            "Số nhập vào phải là số dương\n",
            "Nhập số tự nhiên không âm:fghjk\n",
            "Bạn nhập vào không phải là số tự nhiên\n",
            "Nhập số tự nhiên không âm:10\n",
            "3628800\n"
          ]
        }
      ]
    }
  ]
}