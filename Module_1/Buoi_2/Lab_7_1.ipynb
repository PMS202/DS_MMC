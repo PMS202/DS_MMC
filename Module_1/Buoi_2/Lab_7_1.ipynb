{
  "nbformat": 4,
  "nbformat_minor": 0,
  "metadata": {
    "kernelspec": {
      "display_name": "Python 3",
      "language": "python",
      "name": "python3"
    },
    "language_info": {
      "codemirror_mode": {
        "name": "ipython",
        "version": 3
      },
      "file_extension": ".py",
      "mimetype": "text/x-python",
      "name": "python",
      "nbconvert_exporter": "python",
      "pygments_lexer": "ipython3",
      "version": "3.7.6"
    },
    "colab": {
      "provenance": [],
      "collapsed_sections": [
        "UOG49X9Wyhry"
      ]
    }
  },
  "cells": [
    {
      "cell_type": "markdown",
      "metadata": {
        "id": "cgunPtFKyhqs"
      },
      "source": [
        "\n",
        "\n",
        "#Lab 7.1  Viết code Python đầu tiên của bạn\n",
        "\n",
        "Thời lượng ước tính: **25** phút\n",
        "\n",
        "## Mục tiêu\n",
        "\n",
        "Sau khi hoàn thành lab này, bạn sẽ có thể:\n",
        "\n",
        "-   Viết code cơ bản trong Python\n",
        "-   Làm việc với các loại dữ liệu khác nhau trong Python\n",
        "-   Chuyển đổi dữ liệu từ dạng này sang dạng khác\n",
        "-   Sử dụng các biểu thức và biến để thực hiện các phép toán\n"
      ]
    },
    {
      "cell_type": "markdown",
      "metadata": {
        "id": "x4JRwtUVyhq4"
      },
      "source": [
        "<h2>Mục lục</h2>\n",
        "<div class=\"alert alert-block alert-info\" style=\"margin-top: 20px\">\n",
        "    <ul>\n",
        "        <li>\n",
        "            <a href=\"#hello\">Nói \"Hello\" trong Python</a>\n",
        "            <ul>\n",
        "                <li><a href=\"version\">Bạn đang dùng Python phiên bản nào?</a></li>\n",
        "                <li><a href=\"comments\">Viết comment (chú dẫn) trong Python</a></li>\n",
        "                <li><a href=\"errors\">Các lỗi trong Python</a></li>\n",
        "                <li><a href=\"python_error\">Liệu Python có phát hiện lỗi trước khi chạy code của bạn?</a></li>\n",
        "                <li><a href=\"exercise\">Exercise: Chương trình đầu tiên của bạn</a></li>\n",
        "            </ul>\n",
        "        </li>\n",
        "        <li>\n",
        "            <a href=\"#types_objects\">Các kiểu đối tượng trong Python</a>\n",
        "            <ul>\n",
        "                <li><a href=\"int\">Số nguyên</a></li>\n",
        "                <li><a href=\"float\">Số thực</a></li>\n",
        "                <li><a href=\"convert\">Chuyển đổi đối tượng từ một kiểu này sang kiểu khác</a></li>\n",
        "                <li><a href=\"bool\">Kiểu dữ liệu Boolean</a></li>\n",
        "                <li><a href=\"exer_type\">Exercise: Các kiểu dữ liệu</a></li>\n",
        "            </ul>\n",
        "        </li>\n",
        "        <li>\n",
        "            <a href=\"#expressions\">Biểu thức và biến</a>\n",
        "            <ul>\n",
        "                <li><a href=\"exp\">Biểu thức</a></li>\n",
        "                <li><a href=\"exer_exp\">Exercise: Biểu thức</a></li>\n",
        "                <li><a href=\"var\">Biến</a></li>\n",
        "                <li><a href=\"exer_exp_var\">Exercise: Biểu thức và biến trong Python</a></li>\n",
        "            </ul>\n",
        "        </li>\n",
        "    </ul>\n",
        "    <p>\n",
        "        Thời lượng ước tính cần thiết: <strong>25 phút</strong>\n",
        "    </p>\n",
        "</div>\n",
        "\n",
        "<hr>\n"
      ]
    },
    {
      "cell_type": "markdown",
      "metadata": {
        "id": "Ojk_8WPlyhq6"
      },
      "source": [
        "<h2 id=\"hello\">Nói \"Hello\" trong Python</h2>\n"
      ]
    },
    {
      "cell_type": "markdown",
      "metadata": {
        "id": "on6f0njIyhq7"
      },
      "source": [
        "Khi học một ngôn ngữ lập trình mới, thông thường bạn nên bắt đầu với một ví dụ \"hello world\". Nói một cách đơn giản, dòng code này sẽ đảm bảo cho chúng ta biết cách in một chuỗi ở đầu ra và cách thực thi code trong các ô trong notebook."
      ]
    },
    {
      "cell_type": "markdown",
      "metadata": {
        "id": "CSpsXamfyhq9"
      },
      "source": [
        "<hr/>\n",
        "<div class=\"alert alert-success alertsuccess\" style=\"margin-top: 20px\">\n",
        "[Tip]: Để thực thi code Python trong ô dưới đây, bấm vào ô để chọn và ấn <kbd>Shift</kbd> + <kbd>Enter</kbd>.\n",
        "</div>\n",
        "<hr/>\n"
      ]
    },
    {
      "cell_type": "code",
      "metadata": {
        "id": "WWebikQGyhq-",
        "outputId": "52806ae3-1705-42bf-d667-1e7543e5bb31",
        "colab": {
          "base_uri": "https://localhost:8080/"
        }
      },
      "source": [
        "# Try your first Python output\n",
        "\n",
        "print('Hello, Python!')"
      ],
      "execution_count": 1,
      "outputs": [
        {
          "output_type": "stream",
          "name": "stdout",
          "text": [
            "Hello, Python!\n"
          ]
        }
      ]
    },
    {
      "cell_type": "markdown",
      "metadata": {
        "id": "taUyNxKlyhrA"
      },
      "source": [
        "Sau khi thực hiện ô trên, bạn sẽ thấy Python in ra <code>Hello, Python!</code>. Chúc mừng bạn đã chạy code Python đầu tiên của mình!\n"
      ]
    },
    {
      "cell_type": "markdown",
      "metadata": {
        "id": "SBHXkNaIyhrC"
      },
      "source": [
        "<hr/>\n",
        "<div class=\"alert alert-success alertsuccess\" style=\"margin-top: 20px\">\n",
        "    [Tip:] <code>print()</code> là một hàm. Bạn truyền chuỗi <code>'Hello, Python!'</code> như một đối số để hướng dẫn Python thứ cần in.\n",
        "</div>\n",
        "<hr/>\n"
      ]
    },
    {
      "cell_type": "markdown",
      "metadata": {
        "id": "yl1yfEZryhrD"
      },
      "source": [
        "<h3 id=\"version\">Bạn đang dùng Python bản nào?</h3>\n"
      ]
    },
    {
      "cell_type": "markdown",
      "metadata": {
        "id": "XImW-xZTyhrE"
      },
      "source": [
        "<p>\n",
        "    Có hai phiên bản phổ biến của ngôn ngữ lập trình Python được sử dụng hiện nay: Python 2 và Python 3. Cộng đồng Python đã quyết định chuyển từ Python 2 sang Python 3 và nhiều thư viện phổ biến đã thông báo rằng họ sẽ không hỗ trợ Python 2 nữa.\n",
        "</p>\n",
        "<p>\n",
        "    Vì Python 3 có tương lai nên trong khóa học này, chúng tôi sẽ chỉ sử dụng nó. Làm cách nào để biết rằng notebook của chúng ta được thực thi bởi runtime Python 3? Chúng ta có thể nhìn vào góc trên bên phải của notebook này và thấy \"Python 3\".\n",
        "</p>\n",
        "<p>\n",
        "    Chúng ta cũng có thể hỏi trực tiếp Python và nhận được câu trả lời chi tiết. Hãy thử thực hiện code sau:\n",
        "</p>\n"
      ]
    },
    {
      "cell_type": "code",
      "metadata": {
        "id": "2tLft3uAyhrF",
        "outputId": "bcb0285b-4ae0-45d1-f5c0-f7e1ad68b16e",
        "colab": {
          "base_uri": "https://localhost:8080/"
        }
      },
      "source": [
        "# Check the Python Version\n",
        "\n",
        "import sys\n",
        "print(sys.version)"
      ],
      "execution_count": 2,
      "outputs": [
        {
          "output_type": "stream",
          "name": "stdout",
          "text": [
            "3.10.12 (main, Nov 20 2023, 15:14:05) [GCC 11.4.0]\n"
          ]
        }
      ]
    },
    {
      "cell_type": "markdown",
      "metadata": {
        "id": "QsiV40GHyhrG"
      },
      "source": [
        "<hr/>\n",
        "<div class=\"alert alert-success alertsuccess\" style=\"margin-top: 20px\">\n",
        "    [Tip:] <code>sys</code> là một mô-đun tích hợp chứa nhiều hàm hoặc tham số dành riêng cho hệ thống, bao gồm phiên bản Python đang dùng. Trước khi dùng, chúng ta phải <code>import</code> (nhập) nó rõ ràng.\n",
        "</div>\n",
        "<hr/>\n"
      ]
    },
    {
      "cell_type": "markdown",
      "metadata": {
        "id": "YwycMn9QyhrI"
      },
      "source": [
        "<h3 id=\"comments\">Viết comments trong Python</h3>\n"
      ]
    },
    {
      "cell_type": "markdown",
      "metadata": {
        "id": "AxuGrsZCyhrJ"
      },
      "source": [
        "<p>\n",
        "   Ngoài việc viết code, hãy lưu ý rằng bạn luôn nên thêm comment vào code của mình. Nó sẽ giúp người khác hiểu những gì bạn đang cố gắng hoàn thành (lý do tại sao bạn viết một đoạn code nhất định). Điều này không chỉ giúp <strong> người khác </strong> hiểu code của bạn mà còn có thể đóng vai trò như một lời nhắc nhở <strong> cho bạn </strong> khi quay lại code này sau vài tuần hoặc vài tháng.</p>\n",
        "\n",
        "<p>\n",
        "    Để viết comment trong Python, hãy sử dụng ký hiệu số <code> # </code> trước khi viết comment. Khi bạn chạy code, Python sẽ bỏ qua mọi thứ sau <code> # </code> trên một dòng nhất định.\n",
        "</p>\n"
      ]
    },
    {
      "cell_type": "code",
      "metadata": {
        "id": "So1bCH3RyhrK",
        "outputId": "444b6dea-8caa-41c6-ae21-bdf936e5f863",
        "colab": {
          "base_uri": "https://localhost:8080/"
        }
      },
      "source": [
        "# Practice on writing comments\n",
        "\n",
        "print('Hello, Python!') # This line prints a string\n",
        "# print('Hi')"
      ],
      "execution_count": 3,
      "outputs": [
        {
          "output_type": "stream",
          "name": "stdout",
          "text": [
            "Hello, Python!\n"
          ]
        }
      ]
    },
    {
      "cell_type": "markdown",
      "metadata": {
        "id": "y3u0mAuKyhrL"
      },
      "source": [
        "<p>\n",
        "    Sau khi thực thi ô ở trên, bạn sẽ nhận thấy rằng <code> This line prints a string </code> không xuất hiện ở đầu ra, vì đó là một comment (và do đó bị Python bỏ qua).\n",
        "</p>\n",
        "<p>\n",
        "    Dòng thứ hai cũng không được thực thi vì <code> print ('Hi') </code> đứng sau kí hiệu (<code> # </code>)! Vì đây không phải là một comment giải thích từ lập trình viên, mà là một dòng code thực tế, chúng ta có thể nói rằng lập trình viên đã <em> ghi chú </em> dòng code thứ hai đó.\n",
        "</p>\n"
      ]
    },
    {
      "cell_type": "markdown",
      "metadata": {
        "id": "vNus_p_KyhrM"
      },
      "source": [
        "<h3 id=\"errors\">Các lỗi trong Python</h3>\n"
      ]
    },
    {
      "cell_type": "markdown",
      "metadata": {
        "id": "jZJjpV2eyhrN"
      },
      "source": [
        "<p>Ai cũng mắc sai lầm. Đối với nhiều loại lỗi, Python sẽ cho bạn biết rằng bạn đã mắc lỗi bằng cách đưa ra một thông báo lỗi. Điều quan trọng là phải đọc kỹ các thông báo này để thực sự hiểu bạn đã mắc lỗi ở đâu và cách sửa.</p>\n",
        "<p>Ví dụ, nêu bạn viết <code>print</code> thành <code>frint</code>, Python sẽ hiển thị thông báo lỗi. Hãy thử:</p>\n"
      ]
    },
    {
      "cell_type": "code",
      "metadata": {
        "id": "CyY4FCW1yhrN",
        "outputId": "1e5900c3-dff2-4239-e962-56a49794fa13",
        "colab": {
          "base_uri": "https://localhost:8080/"
        }
      },
      "source": [
        "# Print string as error message\n",
        "\n",
        "print(\"Hello, Python!\")"
      ],
      "execution_count": 5,
      "outputs": [
        {
          "output_type": "stream",
          "name": "stdout",
          "text": [
            "Hello, Python!\n"
          ]
        }
      ]
    },
    {
      "cell_type": "markdown",
      "metadata": {
        "id": "J0dqRJFvyhrO"
      },
      "source": [
        "<p>Thông báo lỗi cho bạn biết:\n",
        "<ol>\n",
        "    <li>nơi xảy ra lỗi (sẽ hữu ích hơn trong các ô notebook hoặc tập lệnh lớn hơn), và</li>\n",
        "    <li>đó là loại lỗi nào (NameError)</li>\n",
        "</ol>\n",
        "<p>Ở đây, Python cố gắng chạy hàm <code>frint</code>, nhưng không thể xác định <code>frint</code> là gì vì nó không phải hàm tích hợp hoặc trước đó chúng ta cũng không xác đinh.</p>\n"
      ]
    },
    {
      "cell_type": "markdown",
      "metadata": {
        "id": "8aQS_0kKyhrO"
      },
      "source": [
        "<p>\n",
        "    Bạn sẽ nhận thấy rằng nếu chúng ta mắc một loại lỗi khác do quên đóng chuỗi, sẽ gặp một lỗi khác (ví dụ: <code>SyntaxError</code>). Hãy thử dưới đây :\n",
        "</p>\n"
      ]
    },
    {
      "cell_type": "code",
      "metadata": {
        "id": "Fd9a1a3TyhrP",
        "outputId": "9743f858-2815-4e5a-8cb0-235ec0742f30",
        "colab": {
          "base_uri": "https://localhost:8080/",
          "height": 106
        }
      },
      "source": [
        "# Try to see build in error message\n",
        "\n",
        "frint(\"Hello, Python!)"
      ],
      "execution_count": 6,
      "outputs": [
        {
          "output_type": "error",
          "ename": "SyntaxError",
          "evalue": "unterminated string literal (detected at line 3) (<ipython-input-6-13fc57e631c8>, line 3)",
          "traceback": [
            "\u001b[0;36m  File \u001b[0;32m\"<ipython-input-6-13fc57e631c8>\"\u001b[0;36m, line \u001b[0;32m3\u001b[0m\n\u001b[0;31m    frint(\"Hello, Python!)\u001b[0m\n\u001b[0m          ^\u001b[0m\n\u001b[0;31mSyntaxError\u001b[0m\u001b[0;31m:\u001b[0m unterminated string literal (detected at line 3)\n"
          ]
        }
      ]
    },
    {
      "cell_type": "markdown",
      "metadata": {
        "id": "byHtLxudyhrP"
      },
      "source": [
        "<h3 id=\"python_error\">Python có phát hiện lỗi trước khi bạn chạy code của mình không?</h3>\n"
      ]
    },
    {
      "cell_type": "markdown",
      "metadata": {
        "id": "N419lDFCyhrP"
      },
      "source": [
        "Python được coi là một <em> ngôn ngữ thông dịch </em>. Các ngôn ngữ biên dịch sẽ kiểm tra toàn bộ chương trình của bạn tại thời điểm biên dịch và có thể cảnh báo bạn về toàn bộ lớp lỗi trước khi thực thi. Ngược lại, Python diễn giải từng dòng tập lệnh của bạn khi nó thực thi. Python sẽ ngừng thực thi toàn bộ chương trình khi nó gặp lỗi (trừ khi lỗi được lập trình viên dự kiến và xử lý, một chủ đề nâng cao hơn mà chúng ta sẽ đề cập sau trong khóa học này).\n"
      ]
    },
    {
      "cell_type": "markdown",
      "metadata": {
        "id": "S9PYDWGkyhrQ"
      },
      "source": [
        "Hãy thử chạy đoạn code trong ô bên dưới và xem điều gì sẽ xảy ra:\n"
      ]
    },
    {
      "cell_type": "code",
      "metadata": {
        "id": "JTBBDLWFyhrQ",
        "outputId": "1d2ac271-7636-414b-c991-cca68f572519",
        "colab": {
          "base_uri": "https://localhost:8080/",
          "height": 211
        }
      },
      "source": [
        "# Print string and error to see the running order\n",
        "\n",
        "print(\"This will be printed\")\n",
        "frint(\"This will cause an error\")\n",
        "print(\"This will NOT be printed\")"
      ],
      "execution_count": 7,
      "outputs": [
        {
          "output_type": "stream",
          "name": "stdout",
          "text": [
            "This will be printed\n"
          ]
        },
        {
          "output_type": "error",
          "ename": "NameError",
          "evalue": "name 'frint' is not defined",
          "traceback": [
            "\u001b[0;31m---------------------------------------------------------------------------\u001b[0m",
            "\u001b[0;31mNameError\u001b[0m                                 Traceback (most recent call last)",
            "\u001b[0;32m<ipython-input-7-af59af1b345d>\u001b[0m in \u001b[0;36m<cell line: 4>\u001b[0;34m()\u001b[0m\n\u001b[1;32m      2\u001b[0m \u001b[0;34m\u001b[0m\u001b[0m\n\u001b[1;32m      3\u001b[0m \u001b[0mprint\u001b[0m\u001b[0;34m(\u001b[0m\u001b[0;34m\"This will be printed\"\u001b[0m\u001b[0;34m)\u001b[0m\u001b[0;34m\u001b[0m\u001b[0;34m\u001b[0m\u001b[0m\n\u001b[0;32m----> 4\u001b[0;31m \u001b[0mfrint\u001b[0m\u001b[0;34m(\u001b[0m\u001b[0;34m\"This will cause an error\"\u001b[0m\u001b[0;34m)\u001b[0m\u001b[0;34m\u001b[0m\u001b[0;34m\u001b[0m\u001b[0m\n\u001b[0m\u001b[1;32m      5\u001b[0m \u001b[0mprint\u001b[0m\u001b[0;34m(\u001b[0m\u001b[0;34m\"This will NOT be printed\"\u001b[0m\u001b[0;34m)\u001b[0m\u001b[0;34m\u001b[0m\u001b[0;34m\u001b[0m\u001b[0m\n",
            "\u001b[0;31mNameError\u001b[0m: name 'frint' is not defined"
          ]
        }
      ]
    },
    {
      "cell_type": "markdown",
      "metadata": {
        "id": "vKyfGIhPyhrQ"
      },
      "source": [
        "<h3 id=\"exercise\">Exercise: Chương trình đầu tiên của bạn</h3>\n"
      ]
    },
    {
      "cell_type": "markdown",
      "metadata": {
        "id": "TTQtU7MJyhrR"
      },
      "source": [
        "<p>Các thế hệ lập trình viên bắt đầu sự nghiệp lập trình đơn giản bằng việc in ra\"Hello, world!\". Bạn hãy học tập họ. </p>\n",
        "<p>Trong ô code dưới đây, hãy dùng hàm <code>print()</code> để in ra đoạn sau: <code>Hello, world!</code></p>\n"
      ]
    },
    {
      "cell_type": "code",
      "metadata": {
        "id": "S9UyVP4EyhrR",
        "outputId": "50ccbdb6-2018-466c-af85-6af27ffeec98",
        "colab": {
          "base_uri": "https://localhost:8080/"
        }
      },
      "source": [
        "# Viết code của bạn ở dưới. Đừng quên ấn Shift+Enter để chạy ô\n",
        "print(\"Hello, world!\")"
      ],
      "execution_count": 8,
      "outputs": [
        {
          "output_type": "stream",
          "name": "stdout",
          "text": [
            "Hello, world!\n"
          ]
        }
      ]
    },
    {
      "cell_type": "markdown",
      "metadata": {
        "id": "2cEN5XKQyhrR"
      },
      "source": [
        "<details><summary>Bấm vào đây để xem đáp án</summary>\n",
        "\n",
        "```python\n",
        "print(\"Hello, world!\")\n",
        "\n",
        "```\n",
        "\n",
        "</details>\n"
      ]
    },
    {
      "cell_type": "markdown",
      "metadata": {
        "id": "DBtm80yAyhrS"
      },
      "source": [
        "<p>Giờ hãy tăng cường code của bạn với một comment. Trong ô code dưới đây, hãy in ra cụm: <code>Hello, world!</code> và chú thích với cụm <code>Print the traditional hello world</code> tất cả trong một dòng code.</p>\n"
      ]
    },
    {
      "cell_type": "code",
      "metadata": {
        "id": "Q8Az6BUlyhrS",
        "outputId": "7641892f-5251-48b2-af60-5a57436a6b1d",
        "colab": {
          "base_uri": "https://localhost:8080/"
        }
      },
      "source": [
        "# Viết code của bạn ở dưới. Đừng quên ấn Shift+Enter để chạy ô\n",
        "print(\"Hello, world!\") # Print the traditional hello world"
      ],
      "execution_count": 9,
      "outputs": [
        {
          "output_type": "stream",
          "name": "stdout",
          "text": [
            "Hello, world!\n"
          ]
        }
      ]
    },
    {
      "cell_type": "markdown",
      "metadata": {
        "id": "c5QNL_UiyhrS"
      },
      "source": [
        "<details><summary>Bấm vào đây để xem đáp án</summary>\n",
        "\n",
        "```python\n",
        "print(\"Hello, world!\") # Print the traditional hello world\n",
        "\n",
        "```\n",
        "\n",
        "</details>\n"
      ]
    },
    {
      "cell_type": "markdown",
      "metadata": {
        "id": "2YOjp-8FyhrT"
      },
      "source": [
        "<hr>\n"
      ]
    },
    {
      "cell_type": "markdown",
      "metadata": {
        "id": "LqHYkBnlyhrT"
      },
      "source": [
        "<h2 id=\"types_objects\" align=\"center\">Các kiểu đối tượng trong Python</h2>\n"
      ]
    },
    {
      "cell_type": "markdown",
      "metadata": {
        "id": "Sg-k_6vfyhrT"
      },
      "source": [
        "<p>Python là một ngôn ngữ hướng đối tượng. Có nhiều kiểu đối tượng trong Python. Hãy bắt đầu với những kiểu phổ biến nhất: <i>chuỗi (string)</i>, <i>số nguyên (integer)</i> và <i>số thực (float)</i>. Bất cứ khi nào bạn viết từ (văn bản) trong Python, tức là bạn đang dùng <i>chuỗi kí tự</i> (gọi ngắn gọn là chuỗi). Ngược lại, các kiểu số phổ biến nhất là <i>số nguyên</i> (ví dụ: -1, 0, 100) và <i>số thực</i>, biểu thị các số thực (ví dụ: 3.14, -42.0).</p>\n"
      ]
    },
    {
      "cell_type": "markdown",
      "metadata": {
        "id": "1szjR4MNyhrU"
      },
      "source": [
        "<a align=\"center\">\n",
        "    <img src=\"https://cf-courses-data.s3.us.cloud-object-storage.appdomain.cloud/IBMDeveloperSkillsNetwork-PY0101EN-SkillsNetwork/labs/Module%201/images/TypesObjects.png\" width=\"600\">\n",
        "</a>\n"
      ]
    },
    {
      "cell_type": "markdown",
      "metadata": {
        "id": "uWsL0H4IyhrU"
      },
      "source": [
        "<p>Các ô code sau đây chứa một số ví dụ.</p>\n"
      ]
    },
    {
      "cell_type": "code",
      "metadata": {
        "id": "E5oLNbAJyhrU",
        "outputId": "72a9bf0c-915b-439b-8f35-67fde2941ac0",
        "colab": {
          "base_uri": "https://localhost:8080/"
        }
      },
      "source": [
        "# Integer\n",
        "\n",
        "11"
      ],
      "execution_count": 10,
      "outputs": [
        {
          "output_type": "execute_result",
          "data": {
            "text/plain": [
              "11"
            ]
          },
          "metadata": {},
          "execution_count": 10
        }
      ]
    },
    {
      "cell_type": "code",
      "metadata": {
        "id": "gWM0FbnryhrV",
        "outputId": "8ffa3847-2158-4373-adf6-9a9266e05b00",
        "colab": {
          "base_uri": "https://localhost:8080/"
        }
      },
      "source": [
        "# Float\n",
        "\n",
        "2.14"
      ],
      "execution_count": 11,
      "outputs": [
        {
          "output_type": "execute_result",
          "data": {
            "text/plain": [
              "2.14"
            ]
          },
          "metadata": {},
          "execution_count": 11
        }
      ]
    },
    {
      "cell_type": "code",
      "metadata": {
        "id": "r4edpNVDyhrV",
        "outputId": "5cafe711-ab5b-44a2-866e-19090db60685",
        "colab": {
          "base_uri": "https://localhost:8080/",
          "height": 35
        }
      },
      "source": [
        "# String\n",
        "\n",
        "\"Hello, Python 101!\""
      ],
      "execution_count": 12,
      "outputs": [
        {
          "output_type": "execute_result",
          "data": {
            "text/plain": [
              "'Hello, Python 101!'"
            ],
            "application/vnd.google.colaboratory.intrinsic+json": {
              "type": "string"
            }
          },
          "metadata": {},
          "execution_count": 12
        }
      ]
    },
    {
      "cell_type": "markdown",
      "metadata": {
        "id": "DIkuficryhrV"
      },
      "source": [
        "<p>Bạn có thể yêu cầu Python cho bạn biết loại biểu thức bằng cách sử dụng hàm <code>type()</code> tích hợp sẵn. Bạn sẽ nhận thấy rằng Python đề cập đến các số nguyên dưới dạng <code>int</code>, số thực ở dạng <code>float</code>, và chuỗi kí tự ở dạng <code>str</code>.</p>\n"
      ]
    },
    {
      "cell_type": "code",
      "metadata": {
        "id": "XHLiOWalyhrW",
        "outputId": "e44fba05-b1fd-4649-bb3d-51eb9f769794",
        "colab": {
          "base_uri": "https://localhost:8080/"
        }
      },
      "source": [
        "# Type of 12\n",
        "\n",
        "type(12)"
      ],
      "execution_count": 13,
      "outputs": [
        {
          "output_type": "execute_result",
          "data": {
            "text/plain": [
              "int"
            ]
          },
          "metadata": {},
          "execution_count": 13
        }
      ]
    },
    {
      "cell_type": "code",
      "metadata": {
        "id": "fYwE1Hv-yhrW",
        "outputId": "b3fd072c-3975-4a87-d117-1cce464c8dad",
        "colab": {
          "base_uri": "https://localhost:8080/"
        }
      },
      "source": [
        "# Type of 2.14\n",
        "\n",
        "type(2.14)"
      ],
      "execution_count": 14,
      "outputs": [
        {
          "output_type": "execute_result",
          "data": {
            "text/plain": [
              "float"
            ]
          },
          "metadata": {},
          "execution_count": 14
        }
      ]
    },
    {
      "cell_type": "code",
      "metadata": {
        "id": "1Wk6noe5yhrW",
        "outputId": "3f7f9acf-3388-4ef0-d659-fcb292ebd833",
        "colab": {
          "base_uri": "https://localhost:8080/"
        }
      },
      "source": [
        "# Type of \"Hello, Python 101!\"\n",
        "\n",
        "type(\"Hello, Python 101!\")"
      ],
      "execution_count": 15,
      "outputs": [
        {
          "output_type": "execute_result",
          "data": {
            "text/plain": [
              "str"
            ]
          },
          "metadata": {},
          "execution_count": 15
        }
      ]
    },
    {
      "cell_type": "markdown",
      "metadata": {
        "id": "eSU-SljqyhrX"
      },
      "source": [
        "<p>Trong ô code bên dưới, hãy dùng hàm <code>type()</code> để xem kiểu đối tượng của <code>12.0</code>.\n"
      ]
    },
    {
      "cell_type": "code",
      "metadata": {
        "id": "nSTRqdUGyhrX",
        "outputId": "e50b9654-6a61-4d7f-f603-646e3c67bcea",
        "colab": {
          "base_uri": "https://localhost:8080/"
        }
      },
      "source": [
        "# Viết code của bạn ở dưới. Đừng quên ấn Shift+Enter để chạy ô\n",
        "type(12.0)"
      ],
      "execution_count": 17,
      "outputs": [
        {
          "output_type": "execute_result",
          "data": {
            "text/plain": [
              "float"
            ]
          },
          "metadata": {},
          "execution_count": 17
        }
      ]
    },
    {
      "cell_type": "markdown",
      "metadata": {
        "id": "5TRLipfgyhrX"
      },
      "source": [
        "<details><summary>Bấm vào đây để xem đáp án</summary>\n",
        "\n",
        "```python\n",
        "type(12.0)\n",
        "\n",
        "```\n",
        "\n",
        "</details>\n"
      ]
    },
    {
      "cell_type": "markdown",
      "metadata": {
        "id": "Ohgh-mg4yhrY"
      },
      "source": [
        "<h3 id=\"int\">Số nguyên</h3>\n"
      ]
    },
    {
      "cell_type": "markdown",
      "metadata": {
        "id": "KCwnSN4vyhrY"
      },
      "source": [
        "<p>Dưới đây là một số ví dụ về số nguyên. Số nguyên có thể là số nguyên âm hoặc nguyên dương:</p>\n"
      ]
    },
    {
      "cell_type": "markdown",
      "metadata": {
        "id": "oyHe22giyhrY"
      },
      "source": [
        "<a align=\"center\">\n",
        "    <img src=\"https://cf-courses-data.s3.us.cloud-object-storage.appdomain.cloud/IBMDeveloperSkillsNetwork-PY0101EN-SkillsNetwork/labs/Module%201/images/TypesInt.png\" width=\"600\">\n",
        "</a>\n"
      ]
    },
    {
      "cell_type": "markdown",
      "metadata": {
        "id": "1zXfiI17yhrY"
      },
      "source": [
        "<p>Bạn có thể xác thực bằng cách dùng hàm <code>type()</code>:\n"
      ]
    },
    {
      "cell_type": "code",
      "metadata": {
        "id": "jb-9RaedyhrZ",
        "outputId": "c58d474e-23fe-4a17-9f85-d2c8a7a76018",
        "colab": {
          "base_uri": "https://localhost:8080/"
        }
      },
      "source": [
        "# Print the type of -1\n",
        "\n",
        "type(-1)"
      ],
      "execution_count": 18,
      "outputs": [
        {
          "output_type": "execute_result",
          "data": {
            "text/plain": [
              "int"
            ]
          },
          "metadata": {},
          "execution_count": 18
        }
      ]
    },
    {
      "cell_type": "code",
      "metadata": {
        "id": "vpbJF4YoyhrZ",
        "outputId": "0ebe5b36-030b-4ba8-9011-cfde369f6152",
        "colab": {
          "base_uri": "https://localhost:8080/"
        }
      },
      "source": [
        "# Print the type of 4\n",
        "\n",
        "type(4)"
      ],
      "execution_count": 19,
      "outputs": [
        {
          "output_type": "execute_result",
          "data": {
            "text/plain": [
              "int"
            ]
          },
          "metadata": {},
          "execution_count": 19
        }
      ]
    },
    {
      "cell_type": "code",
      "metadata": {
        "id": "Wy4imAeOyhrZ",
        "outputId": "35c1b1ae-124d-43b0-d9a1-9c89d61a4b31",
        "colab": {
          "base_uri": "https://localhost:8080/"
        }
      },
      "source": [
        "# Print the type of 0\n",
        "\n",
        "type(0)"
      ],
      "execution_count": 20,
      "outputs": [
        {
          "output_type": "execute_result",
          "data": {
            "text/plain": [
              "int"
            ]
          },
          "metadata": {},
          "execution_count": 20
        }
      ]
    },
    {
      "cell_type": "markdown",
      "metadata": {
        "id": "niHA_vOtyhra"
      },
      "source": [
        "<h3 id=\"float\">Số thực</h3>\n"
      ]
    },
    {
      "cell_type": "markdown",
      "metadata": {
        "id": "EiTyjvAvyhra"
      },
      "source": [
        "<p>Số thực là một tập hợp các số nguyên nhưng cũng bao gồm \"các số thập phân\". Có một số hạn chế khi nói đến máy biểu diễn số thực, nhưng số dấu phẩy động là điển hình trong hầu hết các trường hợp. Bạn có thể tìm hiểu thêm về các chi tiết cụ thể của số thực cho môi trường runtime của mình bằng cách kiểm tra giá trị của <code> sys.float_info </code>. Điều này cũng sẽ cho bạn biết số lớn nhất và số nhỏ nhất có thể được chúng biểu thị.</p>\n",
        "\n",
        "<p>Một lần nữa, các bạn có thể kiểm tra một số ví dụ với hàm <code>type()</code>:\n"
      ]
    },
    {
      "cell_type": "code",
      "metadata": {
        "id": "apIabPGlyhra",
        "outputId": "3d9a5367-ceee-48ee-9ce2-237ce3f8870f",
        "colab": {
          "base_uri": "https://localhost:8080/"
        }
      },
      "source": [
        "# Print the type of 1.0\n",
        "\n",
        "type(1.0) # Notice that 1 is an int, and 1.0 is a float"
      ],
      "execution_count": 21,
      "outputs": [
        {
          "output_type": "execute_result",
          "data": {
            "text/plain": [
              "float"
            ]
          },
          "metadata": {},
          "execution_count": 21
        }
      ]
    },
    {
      "cell_type": "code",
      "metadata": {
        "id": "aLfK0wKzyhrb",
        "outputId": "f1aad098-7faa-4685-e0bc-3dca677239b3",
        "colab": {
          "base_uri": "https://localhost:8080/"
        }
      },
      "source": [
        "# Print the type of 0.5\n",
        "\n",
        "type(0.5)"
      ],
      "execution_count": 22,
      "outputs": [
        {
          "output_type": "execute_result",
          "data": {
            "text/plain": [
              "float"
            ]
          },
          "metadata": {},
          "execution_count": 22
        }
      ]
    },
    {
      "cell_type": "code",
      "metadata": {
        "id": "50YodmLzyhrb",
        "outputId": "d119a697-2ca3-4228-a113-ce815e558cc4",
        "colab": {
          "base_uri": "https://localhost:8080/"
        }
      },
      "source": [
        "# Print the type of 0.56\n",
        "\n",
        "type(0.56)"
      ],
      "execution_count": 23,
      "outputs": [
        {
          "output_type": "execute_result",
          "data": {
            "text/plain": [
              "float"
            ]
          },
          "metadata": {},
          "execution_count": 23
        }
      ]
    },
    {
      "cell_type": "code",
      "metadata": {
        "id": "STKtEkXYyhrb",
        "outputId": "f66fb8b9-6fcd-4144-d5bd-2a7f2e54d215",
        "colab": {
          "base_uri": "https://localhost:8080/"
        }
      },
      "source": [
        "# System settings about float type\n",
        "\n",
        "sys.float_info"
      ],
      "execution_count": 24,
      "outputs": [
        {
          "output_type": "execute_result",
          "data": {
            "text/plain": [
              "sys.float_info(max=1.7976931348623157e+308, max_exp=1024, max_10_exp=308, min=2.2250738585072014e-308, min_exp=-1021, min_10_exp=-307, dig=15, mant_dig=53, epsilon=2.220446049250313e-16, radix=2, rounds=1)"
            ]
          },
          "metadata": {},
          "execution_count": 24
        }
      ]
    },
    {
      "cell_type": "markdown",
      "metadata": {
        "id": "0u4CoPT8yhrc"
      },
      "source": [
        "<h3 id=\"convert\">Chuyển đổi một đối tượng từ kiểu này sang kiểu khác</h3>\n"
      ]
    },
    {
      "cell_type": "markdown",
      "metadata": {
        "id": "dJS_Poewyhrc"
      },
      "source": [
        "<p>Bạn có thể đổi kiểu đối tượng trong Python (ép kiểu). Ví dụ, bạn có thể chuyển một <i>số nguyên</i> thành một <i>số thực</i> (ví dụ: 2 thành 2.0).</p>\n",
        "<p>Hãy thử:</p>\n"
      ]
    },
    {
      "cell_type": "code",
      "metadata": {
        "id": "7YOyWCP9yhrc",
        "outputId": "e52a1422-ba91-481d-8686-1cd32ddd3902",
        "colab": {
          "base_uri": "https://localhost:8080/"
        }
      },
      "source": [
        "# Verify that this is an integer\n",
        "\n",
        "type(2)"
      ],
      "execution_count": 25,
      "outputs": [
        {
          "output_type": "execute_result",
          "data": {
            "text/plain": [
              "int"
            ]
          },
          "metadata": {},
          "execution_count": 25
        }
      ]
    },
    {
      "cell_type": "markdown",
      "metadata": {
        "id": "UIz7hRa0yhrd"
      },
      "source": [
        "<h4>Chuyển số nguyên thành số thực</h4>\n",
        "<p>Hãy chuyển số nguyên 2 thành số thực:</p>\n"
      ]
    },
    {
      "cell_type": "code",
      "metadata": {
        "id": "O6HFev-Fyhrd",
        "outputId": "bf2a69e5-4e3c-41cc-c627-31d5bd45d46a",
        "colab": {
          "base_uri": "https://localhost:8080/"
        }
      },
      "source": [
        "# Convert 2 to a float\n",
        "\n",
        "float(2)"
      ],
      "execution_count": 26,
      "outputs": [
        {
          "output_type": "execute_result",
          "data": {
            "text/plain": [
              "2.0"
            ]
          },
          "metadata": {},
          "execution_count": 26
        }
      ]
    },
    {
      "cell_type": "code",
      "metadata": {
        "id": "OjIaHBr7yhre",
        "outputId": "490c2290-23e0-47c4-ad48-e0955d9108e7",
        "colab": {
          "base_uri": "https://localhost:8080/"
        }
      },
      "source": [
        "# Convert integer 2 to a float and check its type\n",
        "\n",
        "type(float(2))"
      ],
      "execution_count": 27,
      "outputs": [
        {
          "output_type": "execute_result",
          "data": {
            "text/plain": [
              "float"
            ]
          },
          "metadata": {},
          "execution_count": 27
        }
      ]
    },
    {
      "cell_type": "markdown",
      "metadata": {
        "id": "kfELJ9neyhre"
      },
      "source": [
        "<p>Khi chuyển đổi số nguyên thành số thực, chúng ta không thực sự thay đổi giá trị. Tuy nhiên, nếu chuyển từ số thực thành số nguyên, chúng ta có thể mất một số thông tin. Chẳng hạn, nếu chuyển từ số thực 1.1 thành số nguyên 1 thì sẽ mất thông tin phần thập phân (0.1):</p>\n"
      ]
    },
    {
      "cell_type": "code",
      "metadata": {
        "id": "NquGc7lryhre",
        "outputId": "7d43439e-3f1e-4ee6-cd05-ed2664102e2a",
        "colab": {
          "base_uri": "https://localhost:8080/"
        }
      },
      "source": [
        "# Casting 1.1 to integer will result in loss of information\n",
        "\n",
        "int(1.1)"
      ],
      "execution_count": 28,
      "outputs": [
        {
          "output_type": "execute_result",
          "data": {
            "text/plain": [
              "1"
            ]
          },
          "metadata": {},
          "execution_count": 28
        }
      ]
    },
    {
      "cell_type": "markdown",
      "metadata": {
        "id": "YgxgeJKByhrf"
      },
      "source": [
        "<h4>Chuyển từ chuỗi thành số nguyên hoặc số thực</h4>\n"
      ]
    },
    {
      "cell_type": "markdown",
      "metadata": {
        "id": "D-WkRfVvyhrf"
      },
      "source": [
        "<p>Đôi lúc, bạn sẽ có một chuỗi chứa một số trong đó. Trong trường hợp này, chúng ta có thể ép chuỗi đó thể hiện một số thành một số nguyên sử dụng <code>int()</code>:</p>\n"
      ]
    },
    {
      "cell_type": "code",
      "metadata": {
        "id": "jIv73fRvyhrf",
        "outputId": "25a38d5d-8734-43fa-9158-c54d14763d09",
        "colab": {
          "base_uri": "https://localhost:8080/"
        }
      },
      "source": [
        "# Convert a string into an integer\n",
        "\n",
        "int('1')"
      ],
      "execution_count": 29,
      "outputs": [
        {
          "output_type": "execute_result",
          "data": {
            "text/plain": [
              "1"
            ]
          },
          "metadata": {},
          "execution_count": 29
        }
      ]
    },
    {
      "cell_type": "markdown",
      "metadata": {
        "id": "o_7OsMhIyhrf"
      },
      "source": [
        "<p>Nhưng nếu bạn cố gắng làm như vậy với một chuỗi không cho kết quả khớp hoàn hảo cho một số, bạn sẽ gặp lỗi. Hãy thử những cách sau:</p>\n"
      ]
    },
    {
      "cell_type": "code",
      "metadata": {
        "id": "cuGTbsUiyhrg",
        "outputId": "44d74f62-0160-4b02-d9cf-062c6eba7137",
        "colab": {
          "base_uri": "https://localhost:8080/",
          "height": 176
        }
      },
      "source": [
        "# Convert a string into an integer with error\n",
        "\n",
        "int('1 or 2 people')"
      ],
      "execution_count": 30,
      "outputs": [
        {
          "output_type": "error",
          "ename": "ValueError",
          "evalue": "invalid literal for int() with base 10: '1 or 2 people'",
          "traceback": [
            "\u001b[0;31m---------------------------------------------------------------------------\u001b[0m",
            "\u001b[0;31mValueError\u001b[0m                                Traceback (most recent call last)",
            "\u001b[0;32m<ipython-input-30-b78145d165c7>\u001b[0m in \u001b[0;36m<cell line: 3>\u001b[0;34m()\u001b[0m\n\u001b[1;32m      1\u001b[0m \u001b[0;31m# Convert a string into an integer with error\u001b[0m\u001b[0;34m\u001b[0m\u001b[0;34m\u001b[0m\u001b[0m\n\u001b[1;32m      2\u001b[0m \u001b[0;34m\u001b[0m\u001b[0m\n\u001b[0;32m----> 3\u001b[0;31m \u001b[0mint\u001b[0m\u001b[0;34m(\u001b[0m\u001b[0;34m'1 or 2 people'\u001b[0m\u001b[0;34m)\u001b[0m\u001b[0;34m\u001b[0m\u001b[0;34m\u001b[0m\u001b[0m\n\u001b[0m",
            "\u001b[0;31mValueError\u001b[0m: invalid literal for int() with base 10: '1 or 2 people'"
          ]
        }
      ]
    },
    {
      "cell_type": "markdown",
      "metadata": {
        "id": "yoNYRi6tyhrg"
      },
      "source": [
        "<p>Bạn cũng có thể chuyển chuỗi có chứa số dấu phẩy động thành đối tượng <i>float</i> :</p>\n"
      ]
    },
    {
      "cell_type": "code",
      "metadata": {
        "id": "kuSUfqN-yhrg",
        "outputId": "fda5ba30-478e-4f7c-becc-f8f70cf6e798",
        "colab": {
          "base_uri": "https://localhost:8080/"
        }
      },
      "source": [
        "# Convert the string \"1.2\" into a float\n",
        "\n",
        "float('1.2')"
      ],
      "execution_count": 31,
      "outputs": [
        {
          "output_type": "execute_result",
          "data": {
            "text/plain": [
              "1.2"
            ]
          },
          "metadata": {},
          "execution_count": 31
        }
      ]
    },
    {
      "cell_type": "markdown",
      "metadata": {
        "id": "DwWVtIdNyhrh"
      },
      "source": [
        "<hr/>\n",
        "<div class=\"alert alert-success alertsuccess\" style=\"margin-top: 20px\">\n",
        "    [Tip:] Lưu ý rằng các chuỗi có thể được biểu diễn bằng dấu nháy đơn (<code> '1.2' </code>) hoặc dấu nháy kép (<code> \"1.2\" </code>), nhưng bạn không thể kết hợp cả hai (ví dụ: <code> \"1.2'</code>).\n",
        "</div>\n",
        "<hr/>\n"
      ]
    },
    {
      "cell_type": "markdown",
      "metadata": {
        "id": "jW7n37Ihyhrh"
      },
      "source": [
        "<h4>Chuyển số thành chuỗi</h4>\n"
      ]
    },
    {
      "cell_type": "markdown",
      "metadata": {
        "id": "M7DiUhj8yhrh"
      },
      "source": [
        "<p>Nếu chúng ta có thể chuyển đổi chuỗi thành số, thì việc chúng ta có thể chuyển đổi số thành chuỗi là điều đương nhiên phải không?</p>\n"
      ]
    },
    {
      "cell_type": "code",
      "metadata": {
        "id": "u-aTkkbPyhrh",
        "outputId": "410d31a3-131b-4a63-eeb4-01663ae55aa0",
        "colab": {
          "base_uri": "https://localhost:8080/",
          "height": 35
        }
      },
      "source": [
        "# Convert an integer to a string\n",
        "\n",
        "str(1)"
      ],
      "execution_count": 32,
      "outputs": [
        {
          "output_type": "execute_result",
          "data": {
            "text/plain": [
              "'1'"
            ],
            "application/vnd.google.colaboratory.intrinsic+json": {
              "type": "string"
            }
          },
          "metadata": {},
          "execution_count": 32
        }
      ]
    },
    {
      "cell_type": "markdown",
      "metadata": {
        "id": "wSJZHHYVyhri"
      },
      "source": [
        "<p>Và không có lý do gì chúng ta không thể chuyển số thực thành chuỗi:</p>\n"
      ]
    },
    {
      "cell_type": "code",
      "metadata": {
        "id": "MDwLfCBCyhri",
        "outputId": "4b6f21c2-dc6b-47b1-fa14-6d117e0db8bd",
        "colab": {
          "base_uri": "https://localhost:8080/",
          "height": 35
        }
      },
      "source": [
        "# Convert a float to a string\n",
        "\n",
        "str(1.2)"
      ],
      "execution_count": 33,
      "outputs": [
        {
          "output_type": "execute_result",
          "data": {
            "text/plain": [
              "'1.2'"
            ],
            "application/vnd.google.colaboratory.intrinsic+json": {
              "type": "string"
            }
          },
          "metadata": {},
          "execution_count": 33
        }
      ]
    },
    {
      "cell_type": "markdown",
      "metadata": {
        "id": "bjv0-Q3hyhri"
      },
      "source": [
        "<h3 id=\"bool\">Kiểu dữ liệu Boolean</h3>\n"
      ]
    },
    {
      "cell_type": "markdown",
      "metadata": {
        "id": "r6GvjsMgyhrj"
      },
      "source": [
        "<p><i>Boolean</i> là một kiểu quan trọng khác trong Python. Đối tượng của kiểu  <i>Boolean</i> có thể lấy một trong 2 giá trị: <code>True</code> hoặc <code>False</code>:</p>\n"
      ]
    },
    {
      "cell_type": "code",
      "metadata": {
        "id": "rEdgdH21yhrj",
        "outputId": "5634514d-b5f5-48e0-c24c-f950405e215d",
        "colab": {
          "base_uri": "https://localhost:8080/"
        }
      },
      "source": [
        "# Value true\n",
        "\n",
        "True"
      ],
      "execution_count": 34,
      "outputs": [
        {
          "output_type": "execute_result",
          "data": {
            "text/plain": [
              "True"
            ]
          },
          "metadata": {},
          "execution_count": 34
        }
      ]
    },
    {
      "cell_type": "markdown",
      "metadata": {
        "id": "xozaOi3Byhrj"
      },
      "source": [
        "<p>Lưu ý rằng gái trị <code>True</code> có chữ \"T\" viết hao. <code>False</code> cũng vậy (bạn phải viết hoa chữ \"F\").</p>\n"
      ]
    },
    {
      "cell_type": "code",
      "metadata": {
        "id": "Bz_i9R2vyhrj",
        "outputId": "20548972-fcaf-4a86-a192-51e3ae653106",
        "colab": {
          "base_uri": "https://localhost:8080/"
        }
      },
      "source": [
        "# Value false\n",
        "\n",
        "False"
      ],
      "execution_count": 35,
      "outputs": [
        {
          "output_type": "execute_result",
          "data": {
            "text/plain": [
              "False"
            ]
          },
          "metadata": {},
          "execution_count": 35
        }
      ]
    },
    {
      "cell_type": "markdown",
      "metadata": {
        "id": "slphsMgJyhrk"
      },
      "source": [
        "<p>Khi bạn yêu cầu Python hiển thị kiểu đối tượng Boolean, nó sẽ hiển thị <code>bool</code> thay vì <i>boolean</i>:</p>\n"
      ]
    },
    {
      "cell_type": "code",
      "metadata": {
        "id": "O600zfSfyhrk",
        "outputId": "17e4631a-0569-489f-d47b-abb57b6c98fb",
        "colab": {
          "base_uri": "https://localhost:8080/"
        }
      },
      "source": [
        "# Type of True\n",
        "\n",
        "type(True)"
      ],
      "execution_count": 36,
      "outputs": [
        {
          "output_type": "execute_result",
          "data": {
            "text/plain": [
              "bool"
            ]
          },
          "metadata": {},
          "execution_count": 36
        }
      ]
    },
    {
      "cell_type": "code",
      "metadata": {
        "id": "i2CRB4GNyhrk",
        "outputId": "95e8c7b8-0028-408a-e0f1-61d110a668d9",
        "colab": {
          "base_uri": "https://localhost:8080/"
        }
      },
      "source": [
        "# Type of False\n",
        "\n",
        "type(False)"
      ],
      "execution_count": 37,
      "outputs": [
        {
          "output_type": "execute_result",
          "data": {
            "text/plain": [
              "bool"
            ]
          },
          "metadata": {},
          "execution_count": 37
        }
      ]
    },
    {
      "cell_type": "markdown",
      "metadata": {
        "id": "Pts5w3qoyhrl"
      },
      "source": [
        "<p>Chúng ta có thể ép kiểu các đối tượng boolean thành các kiểu dữ liệu khác. Nếu chúng ta ép kiểu boolean có giá trị <code>True</code> thành một số nguyên hoặc số thực, chúng ta sẽ nhận được 1. Nếu chúng ta ép kiểu boolean có giá trị <code>False</code> thành một số nguyên hoặc số thực, chúng ta sẽ nhận được 0. Tương tự, nếu ta chuyển 1 thành Boolean, bạn sẽ nhận được <code>True</code>. Và nếu chúng ta chuyển 0 thành Boolean sẽ nhận được <code>False</code>. Hãy thử:</p>\n"
      ]
    },
    {
      "cell_type": "code",
      "metadata": {
        "id": "zKa23dfyyhrl",
        "outputId": "ce555dc5-a2c7-4a39-9cee-bbbbd1b2c636",
        "colab": {
          "base_uri": "https://localhost:8080/"
        }
      },
      "source": [
        "# Convert True to int\n",
        "\n",
        "int(True)"
      ],
      "execution_count": 38,
      "outputs": [
        {
          "output_type": "execute_result",
          "data": {
            "text/plain": [
              "1"
            ]
          },
          "metadata": {},
          "execution_count": 38
        }
      ]
    },
    {
      "cell_type": "code",
      "metadata": {
        "id": "3b34KdqSyhrm",
        "outputId": "139f0898-79d7-46ae-be5a-72b8c92726bf",
        "colab": {
          "base_uri": "https://localhost:8080/"
        }
      },
      "source": [
        "# Convert 1 to boolean\n",
        "\n",
        "bool(1)"
      ],
      "execution_count": 39,
      "outputs": [
        {
          "output_type": "execute_result",
          "data": {
            "text/plain": [
              "True"
            ]
          },
          "metadata": {},
          "execution_count": 39
        }
      ]
    },
    {
      "cell_type": "code",
      "metadata": {
        "id": "QvdepaT_yhrm",
        "outputId": "131d5f3e-f5ab-4e02-8e7a-ccb0853f811b",
        "colab": {
          "base_uri": "https://localhost:8080/"
        }
      },
      "source": [
        "# Convert 0 to boolean\n",
        "\n",
        "bool(0)"
      ],
      "execution_count": 40,
      "outputs": [
        {
          "output_type": "execute_result",
          "data": {
            "text/plain": [
              "False"
            ]
          },
          "metadata": {},
          "execution_count": 40
        }
      ]
    },
    {
      "cell_type": "code",
      "metadata": {
        "id": "jQyz8A2Xyhrm",
        "outputId": "952a6e10-db4b-4296-c9d1-bc6143f70c2e",
        "colab": {
          "base_uri": "https://localhost:8080/"
        }
      },
      "source": [
        "# Convert True to float\n",
        "\n",
        "float(True)"
      ],
      "execution_count": 41,
      "outputs": [
        {
          "output_type": "execute_result",
          "data": {
            "text/plain": [
              "1.0"
            ]
          },
          "metadata": {},
          "execution_count": 41
        }
      ]
    },
    {
      "cell_type": "markdown",
      "metadata": {
        "id": "XsJbnrE6yhrn"
      },
      "source": [
        "<h3 id=\"exer_type\">Exercise: Các kiểu</h3>\n"
      ]
    },
    {
      "cell_type": "markdown",
      "metadata": {
        "id": "Ky-hW--byhrn"
      },
      "source": [
        "<p>Kiểu dữ liệu của kết quả: <code>6 / 2</code> là?</p>\n"
      ]
    },
    {
      "cell_type": "code",
      "metadata": {
        "id": "rYQynRe6yhrn",
        "outputId": "511535f7-8ca5-404d-9fcd-ba7ffb463b65",
        "colab": {
          "base_uri": "https://localhost:8080/"
        }
      },
      "source": [
        "# Write your code below. Don't forget to press Shift+Enter to execute the cell\n",
        "type(6/2)"
      ],
      "execution_count": 44,
      "outputs": [
        {
          "output_type": "execute_result",
          "data": {
            "text/plain": [
              "float"
            ]
          },
          "metadata": {},
          "execution_count": 44
        }
      ]
    },
    {
      "cell_type": "markdown",
      "metadata": {
        "id": "wPuL9A4ayhro"
      },
      "source": [
        "<details><summary>Bấm vào đây để xem đáp án</summary>\n",
        "\n",
        "```python\n",
        "type(6/2) # float\n",
        "\n",
        "```\n",
        "\n",
        "</details>\n"
      ]
    },
    {
      "cell_type": "markdown",
      "metadata": {
        "id": "68MkRBU9yhro"
      },
      "source": [
        "<p>Kiểu của kết quả: <code>6 // 2</code> là? (Chú ý dấu <code>//</code>.)</p>\n"
      ]
    },
    {
      "cell_type": "code",
      "metadata": {
        "id": "6BhPase-yhro",
        "outputId": "9cf65df7-c849-472b-caad-95ec7d4f9075",
        "colab": {
          "base_uri": "https://localhost:8080/"
        }
      },
      "source": [
        "# Write your code below. Don't forget to press Shift+Enter to execute the cell\n",
        "6//2"
      ],
      "execution_count": 46,
      "outputs": [
        {
          "output_type": "execute_result",
          "data": {
            "text/plain": [
              "3"
            ]
          },
          "metadata": {},
          "execution_count": 46
        }
      ]
    },
    {
      "cell_type": "markdown",
      "metadata": {
        "id": "yxmir6tyyhro"
      },
      "source": [
        "<details><summary>Bấm vào đây để xem đáp án</summary>\n",
        "\n",
        "```python\n",
        "type(6//2) # int, as the double slashes stand for integer division\n",
        "\n",
        "```\n",
        "\n",
        "</details>\n"
      ]
    },
    {
      "cell_type": "markdown",
      "metadata": {
        "id": "ZfUnd7muyhrp"
      },
      "source": [
        "<hr>\n"
      ]
    },
    {
      "cell_type": "markdown",
      "metadata": {
        "id": "pvsRS6jIyhrp"
      },
      "source": [
        "<h2 id=\"expressions\">Biểu thức và biến</h2>\n"
      ]
    },
    {
      "cell_type": "markdown",
      "metadata": {
        "id": "O6W6Apmryhrp"
      },
      "source": [
        "<h3 id=\"exp\">Biểu thức</h3>\n"
      ]
    },
    {
      "cell_type": "markdown",
      "metadata": {
        "id": "1DZYnTHfyhrq"
      },
      "source": [
        "<p>Các biểu thức trong Python có thể bao gồm các phép toán giữa các kiểu tương thích (ví dụ: số nguyên và số thực). Chẳng hạn, các phép toán số học cơ bản như cộng nhiều số:</p>\n"
      ]
    },
    {
      "cell_type": "code",
      "metadata": {
        "id": "6HbPRxpsyhrq",
        "outputId": "273e3d3b-2e42-49bb-dc6c-58a19f227117",
        "colab": {
          "base_uri": "https://localhost:8080/"
        }
      },
      "source": [
        "# Addition operation expression\n",
        "\n",
        "43 + 60 + 16 + 41"
      ],
      "execution_count": 47,
      "outputs": [
        {
          "output_type": "execute_result",
          "data": {
            "text/plain": [
              "160"
            ]
          },
          "metadata": {},
          "execution_count": 47
        }
      ]
    },
    {
      "cell_type": "markdown",
      "metadata": {
        "id": "I1ycVDzuyhrq"
      },
      "source": [
        "<p>Chúng ta có thể thực hiện các phép tính trừ bằng toán tử trừ. Trong trường hợp này, kết quả là một số âm:</p>\n"
      ]
    },
    {
      "cell_type": "code",
      "metadata": {
        "id": "QpXNQ8Shyhrr",
        "outputId": "5f46ce06-64bd-4cf4-bdf0-ad6457418b50",
        "colab": {
          "base_uri": "https://localhost:8080/"
        }
      },
      "source": [
        "# Subtraction operation expression\n",
        "\n",
        "50 - 60"
      ],
      "execution_count": 48,
      "outputs": [
        {
          "output_type": "execute_result",
          "data": {
            "text/plain": [
              "-10"
            ]
          },
          "metadata": {},
          "execution_count": 48
        }
      ]
    },
    {
      "cell_type": "markdown",
      "metadata": {
        "id": "X7Rlvrfnyhrr"
      },
      "source": [
        "<p>Chúng ta có thể thực hiện phép nhân với dấu hoa thị:</p>\n"
      ]
    },
    {
      "cell_type": "code",
      "metadata": {
        "id": "S6xj1wmLyhrr",
        "outputId": "bb8db63b-a974-46c5-b5ac-39618084cc84",
        "colab": {
          "base_uri": "https://localhost:8080/"
        }
      },
      "source": [
        "# Multiplication operation expression\n",
        "\n",
        "5 * 5"
      ],
      "execution_count": 50,
      "outputs": [
        {
          "output_type": "execute_result",
          "data": {
            "text/plain": [
              "25"
            ]
          },
          "metadata": {},
          "execution_count": 50
        }
      ]
    },
    {
      "cell_type": "markdown",
      "metadata": {
        "id": "Ah5ekaJPyhrr"
      },
      "source": [
        "<p>Chúng ta có thể thực hiện phép chia với dấu gạch chéo:\n"
      ]
    },
    {
      "cell_type": "code",
      "metadata": {
        "id": "Je9nC3d0yhrs",
        "outputId": "4608eab7-6920-4963-df1e-4214bb615570",
        "colab": {
          "base_uri": "https://localhost:8080/"
        }
      },
      "source": [
        "# Division operation expression\n",
        "\n",
        "25 / 5"
      ],
      "execution_count": 49,
      "outputs": [
        {
          "output_type": "execute_result",
          "data": {
            "text/plain": [
              "5.0"
            ]
          },
          "metadata": {},
          "execution_count": 49
        }
      ]
    },
    {
      "cell_type": "code",
      "metadata": {
        "id": "EUKfBA2Xyhrs",
        "outputId": "989c6a8c-ecda-469d-8a82-e4973cca2bfb",
        "colab": {
          "base_uri": "https://localhost:8080/"
        }
      },
      "source": [
        "# Division operation expression\n",
        "\n",
        "25 / 6"
      ],
      "execution_count": 51,
      "outputs": [
        {
          "output_type": "execute_result",
          "data": {
            "text/plain": [
              "4.166666666666667"
            ]
          },
          "metadata": {},
          "execution_count": 51
        }
      ]
    },
    {
      "cell_type": "markdown",
      "metadata": {
        "id": "ot_E2cGNyhrs"
      },
      "source": [
        "<p>Như đã thấy trong quiz trên, chúng ta có thể dùng dấu gạch chéo kép để chia số nguyên, trong đó, kết quả được làm tròn đến số nguyên gần nhất:\n"
      ]
    },
    {
      "cell_type": "code",
      "metadata": {
        "id": "9zTPpxW1yhrs",
        "outputId": "8944d4bd-bde8-49d0-95c2-15dac3690867",
        "colab": {
          "base_uri": "https://localhost:8080/"
        }
      },
      "source": [
        "# Integer division operation expression\n",
        "\n",
        "25 // 5"
      ],
      "execution_count": 52,
      "outputs": [
        {
          "output_type": "execute_result",
          "data": {
            "text/plain": [
              "5"
            ]
          },
          "metadata": {},
          "execution_count": 52
        }
      ]
    },
    {
      "cell_type": "code",
      "metadata": {
        "id": "9XFQwx7Oyhrs",
        "outputId": "1017fef9-612c-454b-fc22-fd808721e688",
        "colab": {
          "base_uri": "https://localhost:8080/"
        }
      },
      "source": [
        "# Integer division operation expression\n",
        "\n",
        "25 // 6"
      ],
      "execution_count": 53,
      "outputs": [
        {
          "output_type": "execute_result",
          "data": {
            "text/plain": [
              "4"
            ]
          },
          "metadata": {},
          "execution_count": 53
        }
      ]
    },
    {
      "cell_type": "markdown",
      "metadata": {
        "id": "9hLjZYZgyhrs"
      },
      "source": [
        "<h3 id=\"exer_exp\">Exercise: Biểu thức</h3>\n"
      ]
    },
    {
      "cell_type": "markdown",
      "metadata": {
        "id": "8_HyXiScyhrs"
      },
      "source": [
        "<p> Hãy viết biểu thức tính số giờ trong 160 phút:\n"
      ]
    },
    {
      "cell_type": "code",
      "metadata": {
        "id": "o7cqjZN7yhrt"
      },
      "source": [
        "# Write your code below. Don't forget to press Shift+Enter to execute the cell\n"
      ],
      "execution_count": 54,
      "outputs": []
    },
    {
      "cell_type": "markdown",
      "metadata": {
        "id": "_W6tMuLAyhrt"
      },
      "source": [
        "<details><summary>Bấm vào đây để xem đáp án</summary>\n",
        "\n",
        "```python\n",
        "160/60\n",
        "\n",
        "# Or\n",
        "\n",
        "160//60\n",
        "\n",
        "```\n",
        "\n",
        "</details>\n"
      ]
    },
    {
      "cell_type": "markdown",
      "metadata": {
        "id": "kH3Odm0zyhrt"
      },
      "source": [
        "<p>Python tuân theo các quy ước toán học được chấp nhận rộng rãi khi đánh giá các biểu thức toán học. Trong ví dụ sau, Python thêm 30 vào kết quả của phép nhân (tức là 120).\n"
      ]
    },
    {
      "cell_type": "code",
      "metadata": {
        "id": "HpjObJIkyhrt",
        "outputId": "8fa0f539-8054-466b-bd9a-7c28a33b2bc9",
        "colab": {
          "base_uri": "https://localhost:8080/"
        }
      },
      "source": [
        "# Mathematical expression\n",
        "\n",
        "30 + 2 * 60"
      ],
      "execution_count": 55,
      "outputs": [
        {
          "output_type": "execute_result",
          "data": {
            "text/plain": [
              "150"
            ]
          },
          "metadata": {},
          "execution_count": 55
        }
      ]
    },
    {
      "cell_type": "markdown",
      "metadata": {
        "id": "kyzYHTU3yhrt"
      },
      "source": [
        "<p>Và theo toán học, các biểu thức đặt trong dấu ngoặc đơn được ưu tiên. Vì vậy, sẽ là 32 nhân với 60.\n"
      ]
    },
    {
      "cell_type": "code",
      "metadata": {
        "id": "UCSy1S7uyhrt",
        "outputId": "300786b5-b86d-4ea1-ec42-bb23ff2905bb",
        "colab": {
          "base_uri": "https://localhost:8080/"
        }
      },
      "source": [
        "# Mathematical expression\n",
        "\n",
        "(30 + 2) * 60"
      ],
      "execution_count": 56,
      "outputs": [
        {
          "output_type": "execute_result",
          "data": {
            "text/plain": [
              "1920"
            ]
          },
          "metadata": {},
          "execution_count": 56
        }
      ]
    },
    {
      "cell_type": "markdown",
      "metadata": {
        "id": "6YoYVvS5yhru"
      },
      "source": [
        "<h3 id=\"var\">Biến</h3>\n"
      ]
    },
    {
      "cell_type": "markdown",
      "metadata": {
        "id": "PcdHric-yhru"
      },
      "source": [
        "<p>Cũng như hầu hết các ngôn ngữ lập trình, chúng ta có thể lưu trữ các giá trị trong <i> các biến </i>, để chúng ta có thể sử dụng chúng sau này. Ví dụ:</p>\n"
      ]
    },
    {
      "cell_type": "code",
      "metadata": {
        "id": "zfvyc5Ltyhru"
      },
      "source": [
        "# Store value into variable\n",
        "\n",
        "x = 43 + 60 + 16 + 41"
      ],
      "execution_count": 57,
      "outputs": []
    },
    {
      "cell_type": "markdown",
      "metadata": {
        "id": "UxNYH1KZyhru"
      },
      "source": [
        "<p>Để xem giá trị của <code>x</code> trong Notebook, bạn chỉ cần đặt nó ở dòng cuối của ô:</p>\n"
      ]
    },
    {
      "cell_type": "code",
      "metadata": {
        "id": "AEokBmNDyhru",
        "outputId": "cd44c61a-dea7-4b19-ebb5-135e40d75f1d",
        "colab": {
          "base_uri": "https://localhost:8080/"
        }
      },
      "source": [
        "# Print out the value in variable\n",
        "\n",
        "x"
      ],
      "execution_count": 58,
      "outputs": [
        {
          "output_type": "execute_result",
          "data": {
            "text/plain": [
              "160"
            ]
          },
          "metadata": {},
          "execution_count": 58
        }
      ]
    },
    {
      "cell_type": "markdown",
      "metadata": {
        "id": "9WMw3M0Fyhru"
      },
      "source": [
        "<p>Bạn cũng có thể thực hiện các phép toán với <code>x</code> và lưu kết quả vào một biến mới:</p>\n"
      ]
    },
    {
      "cell_type": "code",
      "metadata": {
        "id": "PQr9jsG_yhrv",
        "outputId": "f1ea6088-5f62-4b08-ca29-6dece41aeeda",
        "colab": {
          "base_uri": "https://localhost:8080/"
        }
      },
      "source": [
        "# Use another variable to store the result of the operation between variable and value\n",
        "\n",
        "y = x / 60\n",
        "y"
      ],
      "execution_count": 59,
      "outputs": [
        {
          "output_type": "execute_result",
          "data": {
            "text/plain": [
              "2.6666666666666665"
            ]
          },
          "metadata": {},
          "execution_count": 59
        }
      ]
    },
    {
      "cell_type": "markdown",
      "metadata": {
        "id": "X4MKWVeRyhrv"
      },
      "source": [
        "<p>Nếu lưu một giá trị vào biến hiện có, giá trị mới sẽ được ghi đè lên giá trị trước đó:</p>\n"
      ]
    },
    {
      "cell_type": "code",
      "metadata": {
        "id": "ahHWi27Vyhrv",
        "outputId": "d06697df-47d1-44d8-ee7e-41e958b4cffa",
        "colab": {
          "base_uri": "https://localhost:8080/"
        }
      },
      "source": [
        "# Overwrite variable with new value\n",
        "\n",
        "x = x / 60\n",
        "x"
      ],
      "execution_count": 60,
      "outputs": [
        {
          "output_type": "execute_result",
          "data": {
            "text/plain": [
              "2.6666666666666665"
            ]
          },
          "metadata": {},
          "execution_count": 60
        }
      ]
    },
    {
      "cell_type": "markdown",
      "metadata": {
        "id": "R3uPBJLOyhrv"
      },
      "source": [
        "<p>Một phương pháp hay là sử dụng tên biến có ý nghĩa để bạn và những người khác có thể đọc và hiểu code dễ dàng hơn:</p>\n"
      ]
    },
    {
      "cell_type": "code",
      "metadata": {
        "id": "i2Jpt7BByhrv",
        "outputId": "622a0720-2296-4121-956d-8e117adb9e4d",
        "colab": {
          "base_uri": "https://localhost:8080/"
        }
      },
      "source": [
        "# Name the variables meaningfully\n",
        "\n",
        "total_min = 43 + 42 + 57 # Total length of albums in minutes\n",
        "total_min"
      ],
      "execution_count": 61,
      "outputs": [
        {
          "output_type": "execute_result",
          "data": {
            "text/plain": [
              "142"
            ]
          },
          "metadata": {},
          "execution_count": 61
        }
      ]
    },
    {
      "cell_type": "code",
      "metadata": {
        "id": "eT6ZBqcEyhrv",
        "outputId": "e7e6f1f8-56d2-44f7-f668-c041e1c61b17",
        "colab": {
          "base_uri": "https://localhost:8080/"
        }
      },
      "source": [
        "# Name the variables meaningfully\n",
        "\n",
        "total_hours = total_min / 60 # Total length of albums in hours\n",
        "total_hours"
      ],
      "execution_count": 62,
      "outputs": [
        {
          "output_type": "execute_result",
          "data": {
            "text/plain": [
              "2.3666666666666667"
            ]
          },
          "metadata": {},
          "execution_count": 62
        }
      ]
    },
    {
      "cell_type": "markdown",
      "metadata": {
        "id": "8e-xpPEcyhrw"
      },
      "source": [
        "<p>Trong các ô ở trên, chúng ta đã thêm độ dài của ba album tính bằng phút và lưu trữ nó trong <code>total_min</code>. Sau đó, chia nó cho 60 để tính tổng độ dài<code>total_hours</code>theo giờ. Bạn cũng có thể thực hiện tất cả cùng một lúc trong một biểu thức, miễn là bạn sử dụng dấu ngoặc đơn để thêm độ dài album trước khi chia, như được hiển thị bên dưới.</p>\n"
      ]
    },
    {
      "cell_type": "code",
      "metadata": {
        "id": "RVX7djbJyhrw",
        "outputId": "b55cb958-b45f-4241-bd66-a8d8b4a76c71",
        "colab": {
          "base_uri": "https://localhost:8080/"
        }
      },
      "source": [
        "# Complicate expression\n",
        "\n",
        "total_hours = (43 + 42 + 57) / 60  # Total hours in a single expression\n",
        "total_hours"
      ],
      "execution_count": 63,
      "outputs": [
        {
          "output_type": "execute_result",
          "data": {
            "text/plain": [
              "2.3666666666666667"
            ]
          },
          "metadata": {},
          "execution_count": 63
        }
      ]
    },
    {
      "cell_type": "markdown",
      "metadata": {
        "id": "88i7exzIyhrw"
      },
      "source": [
        "<p>Nếu bạn muốn có tổng số giờ là một số nguyên, bạn có thể thay thế phép chia dấu phẩy động bằng phép chia số nguyên (tức là <code>//</code>).</p>\n"
      ]
    },
    {
      "cell_type": "markdown",
      "metadata": {
        "id": "kmISeCUmyhrw"
      },
      "source": [
        "<h3 id=\"exer_exp_var\">Exercise: Biểu thức và Biến trong Python</h3>\n"
      ]
    },
    {
      "cell_type": "markdown",
      "metadata": {
        "id": "1CYnHpODyhrw"
      },
      "source": [
        "<p>Giá trị của <code>x</code> là gì trong <code>x = 3 + 2 * 2</code>?</p>\n"
      ]
    },
    {
      "cell_type": "code",
      "metadata": {
        "id": "7L706DWhyhrw",
        "outputId": "c47ccd4d-96e9-4c01-e357-abc787c2c736",
        "colab": {
          "base_uri": "https://localhost:8080/"
        }
      },
      "source": [
        "# Write your code below. Don't forget to press Shift+Enter to execute the cell\n",
        "x = 3 + 2 * 2\n",
        "x"
      ],
      "execution_count": 66,
      "outputs": [
        {
          "output_type": "execute_result",
          "data": {
            "text/plain": [
              "7"
            ]
          },
          "metadata": {},
          "execution_count": 66
        }
      ]
    },
    {
      "cell_type": "markdown",
      "metadata": {
        "id": "QyUWWHRCyhrw"
      },
      "source": [
        "<details><summary>Bấm vào đây để xem đáp án</summary>\n",
        "\n",
        "```python\n",
        "7\n",
        "\n",
        "```\n",
        "\n",
        "</details>\n"
      ]
    },
    {
      "cell_type": "markdown",
      "metadata": {
        "id": "wU8t3azfyhrx"
      },
      "source": [
        "<p>Giá trị của <code>y</code> là gì trong <code>y = (3 + 2) * 2</code>?</p>\n"
      ]
    },
    {
      "cell_type": "code",
      "metadata": {
        "id": "dVQb9mDcyhrx",
        "outputId": "9e906331-b6f4-4ab8-8a8e-486e23b6722e",
        "colab": {
          "base_uri": "https://localhost:8080/"
        }
      },
      "source": [
        "# Write your code below. Don't forget to press Shift+Enter to execute the cell\n",
        "y = (3 + 2) * 2\n",
        "y"
      ],
      "execution_count": 67,
      "outputs": [
        {
          "output_type": "execute_result",
          "data": {
            "text/plain": [
              "10"
            ]
          },
          "metadata": {},
          "execution_count": 67
        }
      ]
    },
    {
      "cell_type": "code",
      "source": [],
      "metadata": {
        "id": "eyYnQ5-dKgIz"
      },
      "execution_count": null,
      "outputs": []
    },
    {
      "cell_type": "markdown",
      "metadata": {
        "id": "xafRAObkyhrx"
      },
      "source": [
        "<details><summary>Bấm vào đây để xem đáp án</summary>\n",
        "\n",
        "```python\n",
        "10\n",
        "\n",
        "```\n",
        "\n",
        "</details>\n"
      ]
    },
    {
      "cell_type": "markdown",
      "metadata": {
        "id": "Nyopl9oKyhrx"
      },
      "source": [
        "<p>Giá trị của<code>z</code> là gì trong <code>z = x + y</code>?</p>\n"
      ]
    },
    {
      "cell_type": "code",
      "metadata": {
        "id": "ZNQoLbzVyhrx",
        "outputId": "48de9b6c-4cb5-4272-f576-bfba9dcbef48",
        "colab": {
          "base_uri": "https://localhost:8080/"
        }
      },
      "source": [
        "# Write your code below. Don't forget to press Shift+Enter to execute the cell\n",
        "z = x + y\n",
        "z"
      ],
      "execution_count": 68,
      "outputs": [
        {
          "output_type": "execute_result",
          "data": {
            "text/plain": [
              "17"
            ]
          },
          "metadata": {},
          "execution_count": 68
        }
      ]
    },
    {
      "cell_type": "markdown",
      "source": [],
      "metadata": {
        "id": "6rXwa7AX7wVk"
      }
    },
    {
      "cell_type": "markdown",
      "metadata": {
        "id": "5evSvQTdyhrx"
      },
      "source": [
        "<details><summary>Bấm vào đây để xem đáp án</summary>\n",
        "\n",
        "```python\n",
        "17\n",
        "\n",
        "```\n",
        "\n",
        "</details>\n"
      ]
    },
    {
      "cell_type": "markdown",
      "metadata": {
        "id": "pnaI9lmbyhry"
      },
      "source": [
        "<hr>\n",
        "<p>Nguồn: IBM\n",
        "<hr>\n",
        "\n"
      ]
    }
  ]
}